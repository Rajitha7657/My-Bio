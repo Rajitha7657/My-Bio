{
 "cells": [
  {
   "cell_type": "markdown",
   "id": "6293cc50",
   "metadata": {},
   "source": [
    "# 100 numpy exercises\n",
    "\n",
    "This is a collection of exercises that have been collected in the numpy mailing list, on stack overflow\n",
    "and in the numpy documentation. The goal of this collection is to offer a quick reference for both old\n",
    "and new users but also to provide a set of exercises for those who teach.\n",
    "\n",
    "\n",
    "If you find an error or think you've a better way to solve some of them, feel\n",
    "free to open an issue at <https://github.com/rougier/numpy-100>."
   ]
  },
  {
   "cell_type": "markdown",
   "id": "a167c052",
   "metadata": {},
   "source": [
    "File automatically generated. See the documentation to update questions/answers/hints programmatically."
   ]
  },
  {
   "cell_type": "markdown",
   "id": "57fc0ee5",
   "metadata": {},
   "source": [
    "Run the `initialize.py` module, then for each question you can query the\n",
    "answer or an hint with `hint(n)` or `answer(n)` for `n` question number."
   ]
  },
  {
   "cell_type": "code",
   "execution_count": null,
   "id": "3d46fba2",
   "metadata": {},
   "outputs": [],
   "source": [
    "%run initialise.py"
   ]
  },
  {
   "cell_type": "markdown",
   "id": "3c1222ff",
   "metadata": {},
   "source": [
    "#### 1. Import the numpy package under the name `np` (★☆☆)"
   ]
  },
  {
   "cell_type": "code",
   "execution_count": 1,
   "id": "f52e6a0b",
   "metadata": {},
   "outputs": [],
   "source": [
    "import numpy as np"
   ]
  },
  {
   "cell_type": "markdown",
   "id": "9d9f4753",
   "metadata": {},
   "source": [
    "#### 2. Print the numpy version and the configuration (★☆☆)"
   ]
  },
  {
   "cell_type": "code",
   "execution_count": 2,
   "id": "b7fa5fa1",
   "metadata": {},
   "outputs": [
    {
     "name": "stdout",
     "output_type": "stream",
     "text": [
      "NumPy version: 2.1.3\n",
      "{\n",
      "  \"Compilers\": {\n",
      "    \"c\": {\n",
      "      \"name\": \"msvc\",\n",
      "      \"linker\": \"link\",\n",
      "      \"version\": \"19.29.30156\",\n",
      "      \"commands\": \"cl\"\n",
      "    },\n",
      "    \"cython\": {\n",
      "      \"name\": \"cython\",\n",
      "      \"linker\": \"cython\",\n",
      "      \"version\": \"3.0.11\",\n",
      "      \"commands\": \"cython\"\n",
      "    },\n",
      "    \"c++\": {\n",
      "      \"name\": \"msvc\",\n",
      "      \"linker\": \"link\",\n",
      "      \"version\": \"19.29.30156\",\n",
      "      \"commands\": \"cl\"\n",
      "    }\n",
      "  },\n",
      "  \"Machine Information\": {\n",
      "    \"host\": {\n",
      "      \"cpu\": \"x86_64\",\n",
      "      \"family\": \"x86_64\",\n",
      "      \"endian\": \"little\",\n",
      "      \"system\": \"windows\"\n",
      "    },\n",
      "    \"build\": {\n",
      "      \"cpu\": \"x86_64\",\n",
      "      \"family\": \"x86_64\",\n",
      "      \"endian\": \"little\",\n",
      "      \"system\": \"windows\"\n",
      "    }\n",
      "  },\n",
      "  \"Build Dependencies\": {\n",
      "    \"blas\": {\n",
      "      \"name\": \"scipy-openblas\",\n",
      "      \"found\": true,\n",
      "      \"version\": \"0.3.27\",\n",
      "      \"detection method\": \"pkgconfig\",\n",
      "      \"include directory\": \"C:/Users/runneradmin/AppData/Local/Temp/cibw-run-__cqtv8c/cp312-win_amd64/build/venv/Lib/site-packages/scipy_openblas64/include\",\n",
      "      \"lib directory\": \"C:/Users/runneradmin/AppData/Local/Temp/cibw-run-__cqtv8c/cp312-win_amd64/build/venv/Lib/site-packages/scipy_openblas64/lib\",\n",
      "      \"openblas configuration\": \"OpenBLAS 0.3.27  USE64BITINT DYNAMIC_ARCH NO_AFFINITY Haswell MAX_THREADS=24\",\n",
      "      \"pc file directory\": \"D:/a/numpy/numpy/.openblas\"\n",
      "    },\n",
      "    \"lapack\": {\n",
      "      \"name\": \"scipy-openblas\",\n",
      "      \"found\": true,\n",
      "      \"version\": \"0.3.27\",\n",
      "      \"detection method\": \"pkgconfig\",\n",
      "      \"include directory\": \"C:/Users/runneradmin/AppData/Local/Temp/cibw-run-__cqtv8c/cp312-win_amd64/build/venv/Lib/site-packages/scipy_openblas64/include\",\n",
      "      \"lib directory\": \"C:/Users/runneradmin/AppData/Local/Temp/cibw-run-__cqtv8c/cp312-win_amd64/build/venv/Lib/site-packages/scipy_openblas64/lib\",\n",
      "      \"openblas configuration\": \"OpenBLAS 0.3.27  USE64BITINT DYNAMIC_ARCH NO_AFFINITY Haswell MAX_THREADS=24\",\n",
      "      \"pc file directory\": \"D:/a/numpy/numpy/.openblas\"\n",
      "    }\n",
      "  },\n",
      "  \"Python Information\": {\n",
      "    \"path\": \"C:\\\\Users\\\\runneradmin\\\\AppData\\\\Local\\\\Temp\\\\build-env-3wj3z502\\\\Scripts\\\\python.exe\",\n",
      "    \"version\": \"3.12\"\n",
      "  },\n",
      "  \"SIMD Extensions\": {\n",
      "    \"baseline\": [\n",
      "      \"SSE\",\n",
      "      \"SSE2\",\n",
      "      \"SSE3\"\n",
      "    ],\n",
      "    \"found\": [\n",
      "      \"SSSE3\",\n",
      "      \"SSE41\",\n",
      "      \"POPCNT\",\n",
      "      \"SSE42\",\n",
      "      \"AVX\",\n",
      "      \"F16C\",\n",
      "      \"FMA3\",\n",
      "      \"AVX2\"\n",
      "    ],\n",
      "    \"not found\": [\n",
      "      \"AVX512F\",\n",
      "      \"AVX512CD\",\n",
      "      \"AVX512_SKX\",\n",
      "      \"AVX512_CLX\",\n",
      "      \"AVX512_CNL\",\n",
      "      \"AVX512_ICL\"\n",
      "    ]\n",
      "  }\n",
      "}\n"
     ]
    },
    {
     "name": "stderr",
     "output_type": "stream",
     "text": [
      "C:\\Users\\ccs\\AppData\\Roaming\\Python\\Python312\\site-packages\\numpy\\__config__.py:155: UserWarning: Install `pyyaml` for better output\n",
      "  warnings.warn(\"Install `pyyaml` for better output\", stacklevel=1)\n"
     ]
    }
   ],
   "source": [
    "import numpy as np\n",
    "\n",
    "# Print the NumPy version\n",
    "print(\"NumPy version:\", np.__version__)\n",
    "\n",
    "# Print the configuration\n",
    "np.show_config()\n"
   ]
  },
  {
   "cell_type": "markdown",
   "id": "3e4c23c6",
   "metadata": {},
   "source": [
    "#### 3. Create a null vector of size 10 (★☆☆)"
   ]
  },
  {
   "cell_type": "code",
   "execution_count": 3,
   "id": "083c5c46",
   "metadata": {},
   "outputs": [
    {
     "name": "stdout",
     "output_type": "stream",
     "text": [
      "[0. 0. 0. 0. 0. 0. 0. 0. 0. 0.]\n"
     ]
    }
   ],
   "source": [
    "import numpy as np\n",
    "\n",
    "null_vector = np.zeros(10)\n",
    "print(null_vector)\n"
   ]
  },
  {
   "cell_type": "markdown",
   "id": "c38bbe82",
   "metadata": {},
   "source": [
    "#### 4. How to find the memory size of any array (★☆☆)"
   ]
  },
  {
   "cell_type": "code",
   "execution_count": 6,
   "id": "02b04021",
   "metadata": {},
   "outputs": [
    {
     "name": "stdout",
     "output_type": "stream",
     "text": [
      "Memory size of the array: 80 bytes\n",
      "Memory size (calculated): 80 bytes\n"
     ]
    }
   ],
   "source": [
    "import numpy as np\n",
    "array = np.zeros(10)\n",
    "memory_size = array.nbytes\n",
    "print(f\"Memory size of the array: {memory_size} bytes\")\n",
    "memory_size_manual = array.size * array.itemsize\n",
    "print(f\"Memory size (calculated): {memory_size_manual} bytes\")\n"
   ]
  },
  {
   "cell_type": "markdown",
   "id": "67f893d4",
   "metadata": {},
   "source": [
    "#### 5. How to get the documentation of the numpy add function from the command line? (★☆☆)"
   ]
  },
  {
   "cell_type": "code",
   "execution_count": 7,
   "id": "40e6b70d",
   "metadata": {},
   "outputs": [
    {
     "name": "stdout",
     "output_type": "stream",
     "text": [
      "Help on ufunc:\n",
      "\n",
      "add = <ufunc 'add'>\n",
      "    add(x1, x2, /, out=None, *, where=True, casting='same_kind', order='K', dtype=None, subok=True[, signature])\n",
      "\n",
      "    Add arguments element-wise.\n",
      "\n",
      "    Parameters\n",
      "    ----------\n",
      "    x1, x2 : array_like\n",
      "        The arrays to be added.\n",
      "        If ``x1.shape != x2.shape``, they must be broadcastable to a common\n",
      "        shape (which becomes the shape of the output).\n",
      "    out : ndarray, None, or tuple of ndarray and None, optional\n",
      "        A location into which the result is stored. If provided, it must have\n",
      "        a shape that the inputs broadcast to. If not provided or None,\n",
      "        a freshly-allocated array is returned. A tuple (possible only as a\n",
      "        keyword argument) must have length equal to the number of outputs.\n",
      "    where : array_like, optional\n",
      "        This condition is broadcast over the input. At locations where the\n",
      "        condition is True, the `out` array will be set to the ufunc result.\n",
      "        Elsewhere, the `out` array will retain its original value.\n",
      "        Note that if an uninitialized `out` array is created via the default\n",
      "        ``out=None``, locations within it where the condition is False will\n",
      "        remain uninitialized.\n",
      "    **kwargs\n",
      "        For other keyword-only arguments, see the\n",
      "        :ref:`ufunc docs <ufuncs.kwargs>`.\n",
      "\n",
      "    Returns\n",
      "    -------\n",
      "    add : ndarray or scalar\n",
      "        The sum of `x1` and `x2`, element-wise.\n",
      "        This is a scalar if both `x1` and `x2` are scalars.\n",
      "\n",
      "    Notes\n",
      "    -----\n",
      "    Equivalent to `x1` + `x2` in terms of array broadcasting.\n",
      "\n",
      "    Examples\n",
      "    --------\n",
      "    >>> import numpy as np\n",
      "    >>> np.add(1.0, 4.0)\n",
      "    5.0\n",
      "    >>> x1 = np.arange(9.0).reshape((3, 3))\n",
      "    >>> x2 = np.arange(3.0)\n",
      "    >>> np.add(x1, x2)\n",
      "    array([[  0.,   2.,   4.],\n",
      "           [  3.,   5.,   7.],\n",
      "           [  6.,   8.,  10.]])\n",
      "\n",
      "    The ``+`` operator can be used as a shorthand for ``np.add`` on ndarrays.\n",
      "\n",
      "    >>> x1 = np.arange(9.0).reshape((3, 3))\n",
      "    >>> x2 = np.arange(3.0)\n",
      "    >>> x1 + x2\n",
      "    array([[ 0.,  2.,  4.],\n",
      "           [ 3.,  5.,  7.],\n",
      "           [ 6.,  8., 10.]])\n",
      "\n"
     ]
    }
   ],
   "source": [
    "import numpy as np\n",
    "help(np.add)\n"
   ]
  },
  {
   "cell_type": "markdown",
   "id": "e0c739c6",
   "metadata": {},
   "source": [
    "#### 6. Create a null vector of size 10 but the fifth value which is 1 (★☆☆)"
   ]
  },
  {
   "cell_type": "code",
   "execution_count": 8,
   "id": "bcceacf7",
   "metadata": {},
   "outputs": [
    {
     "name": "stdout",
     "output_type": "stream",
     "text": [
      "[0. 0. 0. 0. 1. 0. 0. 0. 0. 0.]\n"
     ]
    }
   ],
   "source": [
    "import numpy as np\n",
    "null_vector = np.zeros(10)\n",
    "null_vector[4] = 1\n",
    "\n",
    "print(null_vector)\n"
   ]
  },
  {
   "cell_type": "markdown",
   "id": "fbebedab",
   "metadata": {},
   "source": [
    "#### 7. Create a vector with values ranging from 10 to 49 (★☆☆)"
   ]
  },
  {
   "cell_type": "code",
   "execution_count": 9,
   "id": "3d117d54",
   "metadata": {},
   "outputs": [
    {
     "name": "stdout",
     "output_type": "stream",
     "text": [
      "[10 11 12 13 14 15 16 17 18 19 20 21 22 23 24 25 26 27 28 29 30 31 32 33\n",
      " 34 35 36 37 38 39 40 41 42 43 44 45 46 47 48 49]\n"
     ]
    }
   ],
   "source": [
    "import numpy as np\n",
    "\n",
    "vector = np.arange(10, 50)\n",
    "print(vector)\n"
   ]
  },
  {
   "cell_type": "markdown",
   "id": "ad0bff02",
   "metadata": {},
   "source": [
    "#### 8. Reverse a vector (first element becomes last) (★☆☆)"
   ]
  },
  {
   "cell_type": "code",
   "execution_count": 10,
   "id": "22d23470",
   "metadata": {},
   "outputs": [
    {
     "name": "stdout",
     "output_type": "stream",
     "text": [
      "[9 8 7 6 5 4 3 2 1 0]\n"
     ]
    }
   ],
   "source": [
    "import numpy as np\n",
    "\n",
    "vector = np.arange(10)\n",
    "\n",
    "reversed_vector = vector[::-1]\n",
    "print(reversed_vector)\n"
   ]
  },
  {
   "cell_type": "markdown",
   "id": "9f59d7e1",
   "metadata": {},
   "source": [
    "#### 9. Create a 3x3 matrix with values ranging from 0 to 8 (★☆☆)"
   ]
  },
  {
   "cell_type": "code",
   "execution_count": 11,
   "id": "7449e82d",
   "metadata": {},
   "outputs": [
    {
     "name": "stdout",
     "output_type": "stream",
     "text": [
      "[[0 1 2]\n",
      " [3 4 5]\n",
      " [6 7 8]]\n"
     ]
    }
   ],
   "source": [
    "import numpy as np\n",
    "\n",
    "matrix = np.arange(9).reshape(3, 3)\n",
    "print(matrix)\n"
   ]
  },
  {
   "cell_type": "markdown",
   "id": "f374c4cf",
   "metadata": {},
   "source": [
    "#### 10. Find indices of non-zero elements from [1,2,0,0,4,0] (★☆☆)"
   ]
  },
  {
   "cell_type": "code",
   "execution_count": 12,
   "id": "1a84bed8",
   "metadata": {},
   "outputs": [
    {
     "name": "stdout",
     "output_type": "stream",
     "text": [
      "(array([0, 1, 4]),)\n"
     ]
    }
   ],
   "source": [
    "import numpy as np\n",
    "\n",
    "\n",
    "array = np.array([1, 2, 0, 0, 4, 0])\n",
    "\n",
    "non_zero_indices = np.nonzero(array)\n",
    "print(non_zero_indices)\n"
   ]
  },
  {
   "cell_type": "markdown",
   "id": "9c4707f5",
   "metadata": {},
   "source": [
    "#### 11. Create a 3x3 identity matrix (★☆☆)"
   ]
  },
  {
   "cell_type": "code",
   "execution_count": 72,
   "id": "29dc1fd3",
   "metadata": {},
   "outputs": [
    {
     "name": "stdout",
     "output_type": "stream",
     "text": [
      "[[1. 0. 0.]\n",
      " [0. 1. 0.]\n",
      " [0. 0. 1.]]\n"
     ]
    }
   ],
   "source": [
    "import numpy as np\n",
    "\n",
    "\n",
    "identity_matrix = np.eye(3)\n",
    "\n",
    "print(identity_matrix)\n"
   ]
  },
  {
   "cell_type": "markdown",
   "id": "3bac294a",
   "metadata": {},
   "source": [
    "#### 12. Create a 3x3x3 array with random values (★☆☆)"
   ]
  },
  {
   "cell_type": "code",
   "execution_count": 73,
   "id": "eadfae67",
   "metadata": {},
   "outputs": [
    {
     "name": "stdout",
     "output_type": "stream",
     "text": [
      "[[[0.76134136 0.73636906 0.47343165]\n",
      "  [0.07455126 0.1111324  0.58580746]\n",
      "  [0.93417747 0.90017754 0.5858914 ]]\n",
      "\n",
      " [[0.99646114 0.14808134 0.09643566]\n",
      "  [0.00762084 0.47992409 0.07207808]\n",
      "  [0.210079   0.36974192 0.60553692]]\n",
      "\n",
      " [[0.34540571 0.61362477 0.15261857]\n",
      "  [0.16526773 0.55254853 0.75288146]\n",
      "  [0.86066832 0.22499319 0.40404004]]]\n"
     ]
    }
   ],
   "source": [
    "import numpy as np\n",
    "\n",
    "\n",
    "random_array = np.random.random((3, 3, 3))\n",
    "\n",
    "print(random_array)\n"
   ]
  },
  {
   "cell_type": "markdown",
   "id": "466c2989",
   "metadata": {},
   "source": [
    "#### 13. Create a 10x10 array with random values and find the minimum and maximum values (★☆☆)"
   ]
  },
  {
   "cell_type": "code",
   "execution_count": 74,
   "id": "9a74dbfc",
   "metadata": {},
   "outputs": [
    {
     "name": "stdout",
     "output_type": "stream",
     "text": [
      "Random 10x10 array:\n",
      "[[0.42462843 0.98629968 0.52365496 0.86216236 0.6729976  0.76891763\n",
      "  0.84788618 0.06229161 0.93071941 0.64342023]\n",
      " [0.51831387 0.54059152 0.19281346 0.40591557 0.85128765 0.68936497\n",
      "  0.8617231  0.88919077 0.76469221 0.73338095]\n",
      " [0.29914829 0.51450456 0.6444649  0.06933694 0.32896094 0.03695187\n",
      "  0.41083168 0.32499276 0.61170738 0.5290756 ]\n",
      " [0.64254222 0.28676069 0.27782374 0.77044222 0.76749572 0.20128995\n",
      "  0.27111147 0.53401995 0.96389351 0.83970822]\n",
      " [0.97183644 0.01799057 0.83413869 0.73988176 0.82141101 0.42424133\n",
      "  0.82211354 0.58841377 0.79431834 0.9756515 ]\n",
      " [0.7858745  0.53815375 0.2017802  0.29743022 0.84034123 0.31471774\n",
      "  0.33181122 0.20781172 0.4603694  0.84198555]\n",
      " [0.80515451 0.38348471 0.58720523 0.54230647 0.1375213  0.25854885\n",
      "  0.23311512 0.68991473 0.43689842 0.54187123]\n",
      " [0.29628891 0.99968439 0.81887608 0.29989682 0.18210045 0.38856032\n",
      "  0.24906224 0.75875227 0.73079453 0.36309959]\n",
      " [0.56159915 0.99150222 0.49469969 0.4842286  0.3060194  0.43322719\n",
      "  0.53262795 0.5957887  0.11075448 0.46346302]\n",
      " [0.1552857  0.39493093 0.1285179  0.94437586 0.1009375  0.47293321\n",
      "  0.80228502 0.77666809 0.13385699 0.22904016]]\n",
      "\n",
      "Minimum value: 0.017990568129645834\n",
      "Maximum value: 0.9996843880863109\n"
     ]
    }
   ],
   "source": [
    "import numpy as np\n",
    "\n",
    "\n",
    "random_array = np.random.random((10, 10))\n",
    "\n",
    "\n",
    "min_value = np.min(random_array)\n",
    "max_value = np.max(random_array)\n",
    "\n",
    "print(\"Random 10x10 array:\")\n",
    "print(random_array)\n",
    "print(\"\\nMinimum value:\", min_value)\n",
    "print(\"Maximum value:\", max_value)\n"
   ]
  },
  {
   "cell_type": "markdown",
   "id": "53a8edb2",
   "metadata": {},
   "source": [
    "#### 14. Create a random vector of size 30 and find the mean value (★☆☆)"
   ]
  },
  {
   "cell_type": "code",
   "execution_count": 75,
   "id": "6691530b",
   "metadata": {},
   "outputs": [
    {
     "name": "stdout",
     "output_type": "stream",
     "text": [
      "Random vector: [0.81674671 0.23853828 0.94465995 0.59838388 0.37888213 0.22285461\n",
      " 0.28357167 0.05714194 0.81708559 0.6227036  0.67805192 0.38874558\n",
      " 0.30931419 0.35938811 0.50989033 0.48133679 0.23442685 0.05910415\n",
      " 0.51140904 0.8383479  0.73277661 0.46818956 0.40413052 0.28130174\n",
      " 0.69366424 0.4655425  0.45020891 0.876616   0.11333928 0.66738539]\n",
      "Mean value: 0.48345793219488564\n"
     ]
    }
   ],
   "source": [
    "import numpy as np\n",
    "\n",
    "\n",
    "random_vector = np.random.random(30)\n",
    "\n",
    "\n",
    "mean_value = np.mean(random_vector)\n",
    "\n",
    "print(\"Random vector:\", random_vector)\n",
    "print(\"Mean value:\", mean_value)\n"
   ]
  },
  {
   "cell_type": "markdown",
   "id": "cbaad31c",
   "metadata": {},
   "source": [
    "#### 15. Create a 2d array with 1 on the border and 0 inside (★☆☆)"
   ]
  },
  {
   "cell_type": "code",
   "execution_count": 76,
   "id": "ad8308e3",
   "metadata": {},
   "outputs": [
    {
     "name": "stdout",
     "output_type": "stream",
     "text": [
      "[[1 1 1 1 1]\n",
      " [1 0 0 0 1]\n",
      " [1 0 0 0 1]\n",
      " [1 0 0 0 1]\n",
      " [1 1 1 1 1]]\n"
     ]
    }
   ],
   "source": [
    "import numpy as np\n",
    "\n",
    "\n",
    "size = 5  \n",
    "\n",
    "\n",
    "array = np.zeros((size, size), dtype=int)\n",
    "\n",
    "\n",
    "array[0, :] = 1 \n",
    "array[-1, :] = 1  \n",
    "array[:, 0] = 1  \n",
    "array[:, -1] = 1 \n",
    "\n",
    "print(array)\n"
   ]
  },
  {
   "cell_type": "markdown",
   "id": "c5ecc267",
   "metadata": {},
   "source": [
    "#### 16. How to add a border (filled with 0's) around an existing array? (★☆☆)"
   ]
  },
  {
   "cell_type": "code",
   "execution_count": 77,
   "id": "9d5c78c4",
   "metadata": {},
   "outputs": [
    {
     "name": "stdout",
     "output_type": "stream",
     "text": [
      "[[0 0 0 0 0]\n",
      " [0 1 2 3 0]\n",
      " [0 4 5 6 0]\n",
      " [0 7 8 9 0]\n",
      " [0 0 0 0 0]]\n"
     ]
    }
   ],
   "source": [
    "import numpy as np\n",
    "\n",
    "\n",
    "array = np.array([[1, 2, 3], \n",
    "                  [4, 5, 6], \n",
    "                  [7, 8, 9]])\n",
    "\n",
    "\n",
    "array_with_border = np.pad(array, pad_width=1, mode='constant', constant_values=0)\n",
    "\n",
    "print(array_with_border)\n"
   ]
  },
  {
   "cell_type": "markdown",
   "id": "ef909b72",
   "metadata": {},
   "source": [
    "#### 17. What is the result of the following expression? (★☆☆)\n",
    "```python\n",
    "0 * np.nan\n",
    "np.nan == np.nan\n",
    "np.inf > np.nan\n",
    "np.nan - np.nan\n",
    "np.nan in set([np.nan])\n",
    "0.3 == 3 * 0.1\n",
    "```"
   ]
  },
  {
   "cell_type": "markdown",
   "id": "502738ac",
   "metadata": {},
   "source": [
    "#### 18. Create a 5x5 matrix with values 1,2,3,4 just below the diagonal (★☆☆)"
   ]
  },
  {
   "cell_type": "code",
   "execution_count": 78,
   "id": "faed6e2b",
   "metadata": {},
   "outputs": [
    {
     "name": "stdout",
     "output_type": "stream",
     "text": [
      "[[0 0 0 0 0]\n",
      " [1 0 0 0 0]\n",
      " [0 2 0 0 0]\n",
      " [0 0 3 0 0]\n",
      " [0 0 0 4 0]]\n"
     ]
    }
   ],
   "source": [
    "import numpy as np\n",
    "\n",
    "\n",
    "matrix = np.zeros((5, 5), dtype=int)\n",
    "np.fill_diagonal(matrix[1:], [1, 2, 3, 4])\n",
    "\n",
    "print(matrix)\n"
   ]
  },
  {
   "cell_type": "markdown",
   "id": "a65da660",
   "metadata": {},
   "source": [
    "#### 19. Create a 8x8 matrix and fill it with a checkerboard pattern (★☆☆)"
   ]
  },
  {
   "cell_type": "code",
   "execution_count": 79,
   "id": "ed150400",
   "metadata": {},
   "outputs": [
    {
     "name": "stdout",
     "output_type": "stream",
     "text": [
      "[[0 1 0 1 0 1 0 1]\n",
      " [1 0 1 0 1 0 1 0]\n",
      " [0 1 0 1 0 1 0 1]\n",
      " [1 0 1 0 1 0 1 0]\n",
      " [0 1 0 1 0 1 0 1]\n",
      " [1 0 1 0 1 0 1 0]\n",
      " [0 1 0 1 0 1 0 1]\n",
      " [1 0 1 0 1 0 1 0]]\n"
     ]
    }
   ],
   "source": [
    "import numpy as np\n",
    "\n",
    "checkerboard = np.zeros((8, 8), dtype=int)\n",
    "\n",
    "\n",
    "checkerboard[1::2, ::2] = 1  \n",
    "checkerboard[::2, 1::2] = 1 \n",
    "\n",
    "print(checkerboard)\n"
   ]
  },
  {
   "cell_type": "markdown",
   "id": "9f7f9c49",
   "metadata": {},
   "source": [
    "#### 20. Consider a (6,7,8) shape array, what is the index (x,y,z) of the 100th element? (★☆☆)"
   ]
  },
  {
   "cell_type": "code",
   "execution_count": 80,
   "id": "3782b5a9",
   "metadata": {},
   "outputs": [
    {
     "data": {
      "text/plain": [
       "(1, 5, 4)"
      ]
     },
     "execution_count": 80,
     "metadata": {},
     "output_type": "execute_result"
    }
   ],
   "source": [
    "import numpy as np\n",
    "\n",
    "\n",
    "shape = (6, 7, 8)\n",
    "\n",
    "\n",
    "index = 100\n",
    "\n",
    "\n",
    "x = index // (shape[1] * shape[2])  \n",
    "remaining_index = index % (shape[1] * shape[2])\n",
    "y = remaining_index // shape[2]  \n",
    "z = remaining_index % shape[2]\n",
    "\n",
    "(x, y, z) \n"
   ]
  },
  {
   "cell_type": "markdown",
   "id": "66bfda35",
   "metadata": {},
   "source": [
    "#### 21. Create a checkerboard 8x8 matrix using the tile function (★☆☆)"
   ]
  },
  {
   "cell_type": "code",
   "execution_count": 81,
   "id": "4c07477c",
   "metadata": {},
   "outputs": [
    {
     "name": "stdout",
     "output_type": "stream",
     "text": [
      "[[0 1 0 1 0 1 0 1]\n",
      " [1 0 1 0 1 0 1 0]\n",
      " [0 1 0 1 0 1 0 1]\n",
      " [1 0 1 0 1 0 1 0]\n",
      " [0 1 0 1 0 1 0 1]\n",
      " [1 0 1 0 1 0 1 0]\n",
      " [0 1 0 1 0 1 0 1]\n",
      " [1 0 1 0 1 0 1 0]]\n"
     ]
    }
   ],
   "source": [
    "import numpy as np\n",
    "\n",
    "\n",
    "checkerboard_2x2 = np.array([[0, 1], [1, 0]])\n",
    "\n",
    "checkerboard_8x8 = np.tile(checkerboard_2x2, (4, 4))\n",
    "\n",
    "print(checkerboard_8x8)\n"
   ]
  },
  {
   "cell_type": "markdown",
   "id": "d5bcfc08",
   "metadata": {},
   "source": [
    "#### 22. Normalize a 5x5 random matrix (★☆☆)"
   ]
  },
  {
   "cell_type": "code",
   "execution_count": 82,
   "id": "cea6c993",
   "metadata": {},
   "outputs": [
    {
     "name": "stdout",
     "output_type": "stream",
     "text": [
      "[[0.99336859 0.96970117 0.35756759 0.68794874 0.28745593]\n",
      " [0.34926878 0.29030618 0.58906591 0.1254288  0.57493411]\n",
      " [0.58448405 0.51799596 0.34793146 0.21948476 0.9794859 ]\n",
      " [0.88279828 0.39498114 0.45300019 0.86169031 0.71597399]\n",
      " [0.84511637 0.52140059 0.1155774  0.         1.        ]]\n"
     ]
    }
   ],
   "source": [
    "import numpy as np\n",
    "\n",
    "\n",
    "matrix = np.random.random((5, 5))\n",
    "\n",
    "\n",
    "normalized_matrix = (matrix - matrix.min()) / (matrix.max() - matrix.min())\n",
    "\n",
    "print(normalized_matrix)\n"
   ]
  },
  {
   "cell_type": "markdown",
   "id": "f9a0911e",
   "metadata": {},
   "source": [
    "#### 23. Create a custom dtype that describes a color as four unsigned bytes (RGBA) (★☆☆)"
   ]
  },
  {
   "cell_type": "code",
   "execution_count": 83,
   "id": "b2381644",
   "metadata": {},
   "outputs": [
    {
     "name": "stdout",
     "output_type": "stream",
     "text": [
      "[(255,   0,   0, 255) (  0, 255,   0, 255) (  0,   0, 255, 255)]\n"
     ]
    }
   ],
   "source": [
    "import numpy as np\n",
    "\n",
    "\n",
    "rgba_dtype = np.dtype([('r', np.uint8), ('g', np.uint8), ('b', np.uint8), ('a', np.uint8)])\n",
    "\n",
    "\n",
    "color_array = np.array([(255, 0, 0, 255), (0, 255, 0, 255), (0, 0, 255, 255)], dtype=rgba_dtype)\n",
    "\n",
    "print(color_array)\n"
   ]
  },
  {
   "cell_type": "markdown",
   "id": "6567194d",
   "metadata": {},
   "source": [
    "#### 22. Normalize a 5x5 random matrix (★☆☆)"
   ]
  },
  {
   "cell_type": "code",
   "execution_count": 84,
   "id": "d165044b",
   "metadata": {},
   "outputs": [
    {
     "name": "stdout",
     "output_type": "stream",
     "text": [
      "[[0.50105677 0.3239781  0.92067237 0.99204898 0.92884897]\n",
      " [0.79051926 0.122887   0.63059357 0.66522118 0.        ]\n",
      " [0.24505014 1.         0.37369274 0.61890168 0.11907031]\n",
      " [0.10206421 0.50697598 0.11131077 0.14795212 0.76750517]\n",
      " [0.00482009 0.05136154 0.99058533 0.06605782 0.7094635 ]]\n"
     ]
    }
   ],
   "source": [
    "import numpy as np\n",
    "\n",
    "\n",
    "matrix = np.random.random((5, 5))\n",
    "\n",
    "\n",
    "normalized_matrix = (matrix - matrix.min()) / (matrix.max() - matrix.min())\n",
    "\n",
    "print(normalized_matrix)\n"
   ]
  },
  {
   "cell_type": "markdown",
   "id": "c0b8790f",
   "metadata": {},
   "source": [
    "#### 22. Normalize a 5x5 random matrix (★☆☆)"
   ]
  },
  {
   "cell_type": "code",
   "execution_count": 138,
   "id": "b5b2f997",
   "metadata": {},
   "outputs": [
    {
     "name": "stdout",
     "output_type": "stream",
     "text": [
      "Original matrix:\n",
      "[[0.49801404 0.16166716 0.98540823 0.51021683 0.88369841]\n",
      " [0.63537454 0.15293137 0.74786376 0.32805783 0.19555863]\n",
      " [0.82938962 0.28257331 0.23736457 0.32861061 0.61476671]\n",
      " [0.13830586 0.51684325 0.85967554 0.43878729 0.6413249 ]\n",
      " [0.33067973 0.98769069 0.41855685 0.92950483 0.55823884]]\n",
      "\n",
      "Normalized matrix:\n",
      "[[0.42349259 0.02750379 0.99731281 0.43785921 0.87756753]\n",
      " [0.58521022 0.01721895 0.71764632 0.2233993  0.06740498]\n",
      " [0.81362856 0.16984934 0.11662406 0.2240501  0.56094816]\n",
      " [0.         0.44566065 0.84928486 0.35376359 0.5922157 ]\n",
      " [0.22648611 1.         0.32994584 0.93149647 0.49439661]]\n"
     ]
    }
   ],
   "source": [
    "import numpy as np\n",
    "\n",
    "matrix = np.random.random((5, 5))\n",
    "\n",
    "normalized_matrix = (matrix - np.min(matrix)) / (np.max(matrix) - np.min(matrix))\n",
    "\n",
    "print(\"Original matrix:\")\n",
    "print(matrix)\n",
    "\n",
    "print(\"\\nNormalized matrix:\")\n",
    "print(normalized_matrix)\n"
   ]
  },
  {
   "cell_type": "markdown",
   "id": "654805b1",
   "metadata": {},
   "source": [
    "#### 24. Multiply a 5x3 matrix by a 3x2 matrix (real matrix product) (★☆☆)"
   ]
  },
  {
   "cell_type": "code",
   "execution_count": 137,
   "id": "6a42619f",
   "metadata": {},
   "outputs": [
    {
     "name": "stdout",
     "output_type": "stream",
     "text": [
      "[[ 14  32]\n",
      " [ 32  77]\n",
      " [ 50 122]\n",
      " [ 68 167]\n",
      " [ 86 212]]\n"
     ]
    }
   ],
   "source": [
    "import numpy as np\n",
    "\n",
    "# Define a 5x3 matrix\n",
    "A = np.array([[1, 2, 3],\n",
    "              [4, 5, 6],\n",
    "              [7, 8, 9],\n",
    "              [10, 11, 12],\n",
    "              [13, 14, 15]])\n",
    "\n",
    "# Define a 3x2 matrix\n",
    "B = np.array([[1, 4],\n",
    "              [2, 5],\n",
    "              [3, 6]])\n",
    "\n",
    "# Multiply the matrices (real matrix product)\n",
    "result = np.dot(A, B)\n",
    "\n",
    "# Alternatively, you can use the @ operator\n",
    "# result = A @ B\n",
    "\n",
    "print(result)\n"
   ]
  },
  {
   "cell_type": "markdown",
   "id": "994c25df",
   "metadata": {},
   "source": [
    "#### 25. Given a 1D array, negate all elements which are between 3 and 8, in place. (★☆☆)"
   ]
  },
  {
   "cell_type": "code",
   "execution_count": 136,
   "id": "e4b39c03",
   "metadata": {},
   "outputs": [
    {
     "name": "stdout",
     "output_type": "stream",
     "text": [
      "[ 1  2 -3 -4 -5 -6 -7 -8  9]\n"
     ]
    }
   ],
   "source": [
    "import numpy as np\n",
    "\n",
    "arr = np.array([1, 2, 3, 4, 5, 6, 7, 8, 9])\n",
    "\n",
    "\n",
    "arr[(arr >= 3) & (arr <= 8)] *= -1\n",
    "\n",
    "print(arr)\n"
   ]
  },
  {
   "cell_type": "markdown",
   "id": "b7d15d1a",
   "metadata": {},
   "source": [
    "#### 26. What is the output of the following script? (★☆☆)\n",
    "```python\n",
    "# Author: Jake VanderPlas\n",
    "\n",
    "print(sum(range(5),-1))\n",
    "from numpy import *\n",
    "print(sum(range(5),-1))\n",
    "```"
   ]
  },
  {
   "cell_type": "code",
   "execution_count": 135,
   "id": "4c95bc3f",
   "metadata": {},
   "outputs": [
    {
     "name": "stdout",
     "output_type": "stream",
     "text": [
      "9\n",
      "10\n"
     ]
    }
   ],
   "source": [
    "\n",
    "# Author: Jake VanderPlas\n",
    "print(sum(range(5),-1))\n",
    "from numpy import *\n",
    "print(sum(range(5),-1))\n"
   ]
  },
  {
   "cell_type": "markdown",
   "id": "a34f0d08",
   "metadata": {},
   "source": [
    "#### 27. Consider an integer vector Z, which of these expressions are legal? (★☆☆)\n",
    "```python\n",
    "Z**Z\n",
    "2 << Z >> 2\n",
    "Z <- Z\n",
    "1j*Z\n",
    "Z/1/1\n",
    "Z<Z>Z\n",
    "```"
   ]
  },
  {
   "cell_type": "code",
   "execution_count": null,
   "id": "564658fc",
   "metadata": {},
   "outputs": [],
   "source": []
  },
  {
   "cell_type": "markdown",
   "id": "c34e94bf",
   "metadata": {},
   "source": [
    "#### 28. What are the result of the following expressions? (★☆☆)\n",
    "```python\n",
    "np.array(0) / np.array(0)\n",
    "np.array(0) // np.array(0)\n",
    "np.array([np.nan]).astype(int).astype(float)\n",
    "```"
   ]
  },
  {
   "cell_type": "code",
   "execution_count": 134,
   "id": "56663562",
   "metadata": {},
   "outputs": [
    {
     "name": "stderr",
     "output_type": "stream",
     "text": [
      "C:\\Users\\ccs\\AppData\\Local\\Temp\\ipykernel_5732\\1647932365.py:1: RuntimeWarning: invalid value encountered in divide\n",
      "  np.array(0) / np.array(0)\n",
      "C:\\Users\\ccs\\AppData\\Local\\Temp\\ipykernel_5732\\1647932365.py:3: RuntimeWarning: invalid value encountered in cast\n",
      "  np.array([np.nan]).astype(int).astype(float)\n"
     ]
    },
    {
     "data": {
      "text/plain": [
       "array([-9.22337204e+18])"
      ]
     },
     "execution_count": 134,
     "metadata": {},
     "output_type": "execute_result"
    }
   ],
   "source": [
    "np.array(0) / np.array(0)\n",
    "\n",
    "np.array([np.nan]).astype(int).astype(float)\n"
   ]
  },
  {
   "cell_type": "markdown",
   "id": "546f5e7b",
   "metadata": {},
   "source": [
    "#### 29. How to round away from zero a float array ? (★☆☆)"
   ]
  },
  {
   "cell_type": "code",
   "execution_count": 132,
   "id": "f725a6d2",
   "metadata": {},
   "outputs": [
    {
     "data": {
      "text/plain": [
       "array([-2.,  2., -4.,  5.])"
      ]
     },
     "execution_count": 132,
     "metadata": {},
     "output_type": "execute_result"
    }
   ],
   "source": [
    "import numpy as np\n",
    "\n",
    "\n",
    "arr = np.array([-1.5, 2.3, -3.7, 4.5])\n",
    "\n",
    "\n",
    "rounded_arr = np.copysign(np.floor(np.abs(arr) + 0.5), arr)\n",
    "\n",
    "rounded_arr\n"
   ]
  },
  {
   "cell_type": "markdown",
   "id": "eadca856",
   "metadata": {},
   "source": [
    "#### 30. How to find common values between two arrays? (★☆☆)"
   ]
  },
  {
   "cell_type": "code",
   "execution_count": 131,
   "id": "4fbcc3bd",
   "metadata": {},
   "outputs": [
    {
     "data": {
      "text/plain": [
       "array([4, 5])"
      ]
     },
     "execution_count": 131,
     "metadata": {},
     "output_type": "execute_result"
    }
   ],
   "source": [
    "import numpy as np\n",
    "\n",
    "\n",
    "array1 = np.array([1, 2, 3, 4, 5])\n",
    "array2 = np.array([4, 5, 6, 7, 8])\n",
    "\n",
    "\n",
    "common_values = np.intersect1d(array1, array2)\n",
    "\n",
    "common_values\n"
   ]
  },
  {
   "cell_type": "markdown",
   "id": "ca16ca22",
   "metadata": {},
   "source": [
    "#### 31. How to ignore all numpy warnings (not recommended)? (★☆☆)"
   ]
  },
  {
   "cell_type": "code",
   "execution_count": 142,
   "id": "7d7208ef",
   "metadata": {},
   "outputs": [
    {
     "name": "stderr",
     "output_type": "stream",
     "text": [
      "C:\\Users\\ccs\\AppData\\Local\\Temp\\ipykernel_5732\\2024148803.py:7: RuntimeWarning: divide by zero encountered in divide\n",
      "  result=np.array([1,2,0])/np.array([1,0,3])\n"
     ]
    }
   ],
   "source": [
    "import numpy as np\n",
    "import warnings\n",
    "\n",
    "# Ignore all warnings\n",
    "warnings.filterwarnings(\"ignore\",category=UserWarning,module=\"numpy\")\n",
    "np.seterr(divide='warn')\n",
    "result=np.array([1,2,0])/np.array([1,0,3])\n"
   ]
  },
  {
   "cell_type": "markdown",
   "id": "c7871d0d",
   "metadata": {},
   "source": [
    "#### 32. Is the following expressions true? (★☆☆)\n",
    "```python\n",
    "np.sqrt(-1) == np.emath.sqrt(-1)\n",
    "```"
   ]
  },
  {
   "cell_type": "code",
   "execution_count": 143,
   "id": "a4ef52e1",
   "metadata": {},
   "outputs": [
    {
     "name": "stderr",
     "output_type": "stream",
     "text": [
      "C:\\Users\\ccs\\AppData\\Local\\Temp\\ipykernel_5732\\2961820512.py:1: RuntimeWarning: invalid value encountered in sqrt\n",
      "  np.sqrt(-1) == np.emath.sqrt(-1)\n"
     ]
    },
    {
     "data": {
      "text/plain": [
       "np.False_"
      ]
     },
     "execution_count": 143,
     "metadata": {},
     "output_type": "execute_result"
    }
   ],
   "source": [
    "np.sqrt(-1) == np.emath.sqrt(-1)\n"
   ]
  },
  {
   "cell_type": "markdown",
   "id": "e0433e30",
   "metadata": {},
   "source": [
    "#### 33. How to get the dates of yesterday, today and tomorrow? (★☆☆)"
   ]
  },
  {
   "cell_type": "code",
   "execution_count": 127,
   "id": "9c4d2152",
   "metadata": {},
   "outputs": [
    {
     "data": {
      "text/plain": [
       "(datetime.date(2024, 12, 7),\n",
       " datetime.date(2024, 12, 8),\n",
       " datetime.date(2024, 12, 9))"
      ]
     },
     "execution_count": 127,
     "metadata": {},
     "output_type": "execute_result"
    }
   ],
   "source": [
    "from datetime import datetime, timedelta\n",
    "\n",
    "# Get today's date\n",
    "today = datetime.today().date()\n",
    "\n",
    "# Get yesterday's date\n",
    "yesterday = today - timedelta(days=1)\n",
    "\n",
    "# Get tomorrow's date\n",
    "tomorrow = today + timedelta(days=1)\n",
    "\n",
    "yesterday, today, tomorrow\n"
   ]
  },
  {
   "cell_type": "markdown",
   "id": "9f52a2ef",
   "metadata": {},
   "source": [
    "#### 34. How to get all the dates corresponding to the month of July 2016? (★★☆)"
   ]
  },
  {
   "cell_type": "code",
   "execution_count": 125,
   "id": "d6c34dec",
   "metadata": {},
   "outputs": [
    {
     "data": {
      "text/plain": [
       "DatetimeIndex(['2016-07-01', '2016-07-02', '2016-07-03', '2016-07-04',\n",
       "               '2016-07-05', '2016-07-06', '2016-07-07', '2016-07-08',\n",
       "               '2016-07-09', '2016-07-10', '2016-07-11', '2016-07-12',\n",
       "               '2016-07-13', '2016-07-14', '2016-07-15', '2016-07-16',\n",
       "               '2016-07-17', '2016-07-18', '2016-07-19', '2016-07-20',\n",
       "               '2016-07-21', '2016-07-22', '2016-07-23', '2016-07-24',\n",
       "               '2016-07-25', '2016-07-26', '2016-07-27', '2016-07-28',\n",
       "               '2016-07-29', '2016-07-30', '2016-07-31'],\n",
       "              dtype='datetime64[ns]', freq='D')"
      ]
     },
     "execution_count": 125,
     "metadata": {},
     "output_type": "execute_result"
    }
   ],
   "source": [
    "import pandas as pd\n",
    "\n",
    "# Generate all dates in July 2016\n",
    "dates_july_2016 = pd.date_range('2016-07-01', '2016-07-31')\n",
    "\n",
    "dates_july_2016\n"
   ]
  },
  {
   "cell_type": "markdown",
   "id": "8a98c2a8",
   "metadata": {},
   "source": [
    "#### 36. Extract the integer part of a random array of positive numbers using 4 different methods (★★☆)"
   ]
  },
  {
   "cell_type": "code",
   "execution_count": 121,
   "id": "8f4c8bd3",
   "metadata": {},
   "outputs": [
    {
     "data": {
      "text/plain": [
       "(array([2.63424829, 8.53663502, 3.30392518, 5.35409826, 6.71864343]),\n",
       " array([2., 8., 3., 5., 6.]),\n",
       " array([2., 8., 3., 5., 6.]),\n",
       " array([2, 8, 3, 5, 6]),\n",
       " array([2, 8, 3, 5, 6]))"
      ]
     },
     "execution_count": 121,
     "metadata": {},
     "output_type": "execute_result"
    }
   ],
   "source": [
    "import numpy as np\n",
    "\n",
    "random_array = np.random.uniform(0, 10, 5)\n",
    "\n",
    "\n",
    "floor_values = np.floor(random_array)\n",
    "\n",
    "\n",
    "trunc_values = np.trunc(random_array)\n",
    "\n",
    "astype_values = random_array.astype(int)\n",
    "\n",
    "int_values = np.int_(random_array)\n",
    "\n",
    "random_array, floor_values, trunc_values, astype_values, int_values\n"
   ]
  },
  {
   "cell_type": "markdown",
   "id": "5731c450",
   "metadata": {},
   "source": [
    "#### 37. Create a 5x5 matrix with row values ranging from 0 to 4 (★★☆)"
   ]
  },
  {
   "cell_type": "code",
   "execution_count": 118,
   "id": "1d974e8f",
   "metadata": {},
   "outputs": [
    {
     "data": {
      "text/plain": [
       "array([[0, 1, 2, 3, 4],\n",
       "       [0, 1, 2, 3, 4],\n",
       "       [0, 1, 2, 3, 4],\n",
       "       [0, 1, 2, 3, 4],\n",
       "       [0, 1, 2, 3, 4]])"
      ]
     },
     "execution_count": 118,
     "metadata": {},
     "output_type": "execute_result"
    }
   ],
   "source": [
    "import numpy as np\n",
    "\n",
    "matrix = np.tile(np.arange(5), (5, 1))\n",
    "matrix\n"
   ]
  },
  {
   "cell_type": "markdown",
   "id": "9720e2d5",
   "metadata": {},
   "source": [
    "#### 38. Consider a generator function that generates 10 integers and use it to build an array (★☆☆)"
   ]
  },
  {
   "cell_type": "code",
   "execution_count": 117,
   "id": "e5dd8fc9",
   "metadata": {},
   "outputs": [
    {
     "name": "stdout",
     "output_type": "stream",
     "text": [
      "Array from generator: [0 1 2 3 4 5 6 7 8 9]\n"
     ]
    }
   ],
   "source": [
    "import numpy as np\n",
    "\n",
    "def generate_integers():\n",
    "    for i in range(10):\n",
    "        yield i\n",
    "\n",
    "\n",
    "array_from_generator = np.array(list(generate_integers()))\n",
    "\n",
    "print(f\"Array from generator: {array_from_generator}\")\n"
   ]
  },
  {
   "cell_type": "markdown",
   "id": "c6f2c912",
   "metadata": {},
   "source": [
    "#### 39. Create a vector of size 10 with values ranging from 0 to 1, both excluded (★★☆)"
   ]
  },
  {
   "cell_type": "code",
   "execution_count": 116,
   "id": "6aaa27d3",
   "metadata": {},
   "outputs": [
    {
     "name": "stdout",
     "output_type": "stream",
     "text": [
      "Generated Vector: [0.69560896 0.15634671 0.4693664  0.04763596 0.04384058 0.41545279\n",
      " 0.53518409 0.89794881 0.60517508 0.70578946]\n"
     ]
    }
   ],
   "source": [
    "import numpy as np\n",
    "\n",
    "\n",
    "vector = np.random.uniform(0, 1, 10)\n",
    "\n",
    "print(f\"Generated Vector: {vector}\")\n"
   ]
  },
  {
   "cell_type": "markdown",
   "id": "a36d6ee4",
   "metadata": {},
   "source": [
    "#### 40. Create a random vector of size 10 and sort it (★★☆)"
   ]
  },
  {
   "cell_type": "code",
   "execution_count": 115,
   "id": "e589d216",
   "metadata": {},
   "outputs": [
    {
     "name": "stdout",
     "output_type": "stream",
     "text": [
      "Original Vector: [0.10293306 0.64327978 0.45292316 0.38111309 0.26922425 0.79648299\n",
      " 0.94095109 0.02318067 0.92576212 0.01681138]\n",
      "Sorted Vector: [0.01681138 0.02318067 0.10293306 0.26922425 0.38111309 0.45292316\n",
      " 0.64327978 0.79648299 0.92576212 0.94095109]\n"
     ]
    }
   ],
   "source": [
    "import numpy as np\n",
    "\n",
    "random_vector = np.random.random(10)\n",
    "\n",
    "\n",
    "sorted_vector = np.sort(random_vector)\n",
    "\n",
    "print(f\"Original Vector: {random_vector}\")\n",
    "print(f\"Sorted Vector: {sorted_vector}\")\n"
   ]
  },
  {
   "cell_type": "markdown",
   "id": "0fb4ad68",
   "metadata": {},
   "source": [
    "#### 41. How to sum a small array faster than np.sum? (★★☆)"
   ]
  },
  {
   "cell_type": "code",
   "execution_count": 114,
   "id": "a1ba05a0",
   "metadata": {},
   "outputs": [
    {
     "name": "stdout",
     "output_type": "stream",
     "text": [
      "Sum using np.add.reduce: 5.406285274368392\n"
     ]
    }
   ],
   "source": [
    "import numpy as np\n",
    "\n",
    "arr = np.random.random(10)\n",
    "\n",
    "\n",
    "sum_fast = np.add.reduce(arr)\n",
    "\n",
    "print(f\"Sum using np.add.reduce: {sum_fast}\")\n"
   ]
  },
  {
   "cell_type": "markdown",
   "id": "024ac365",
   "metadata": {},
   "source": [
    "#### 42. Consider two random array A and B, check if they are equal (★★☆)"
   ]
  },
  {
   "cell_type": "code",
   "execution_count": 113,
   "id": "a7b8c53d",
   "metadata": {},
   "outputs": [
    {
     "name": "stdout",
     "output_type": "stream",
     "text": [
      "Arrays A and B are exactly equal: False\n",
      "Arrays A and B are element-wise close (within tolerance): False\n"
     ]
    }
   ],
   "source": [
    "import numpy as np\n",
    "\n",
    "# Step 1: Create two random arrays\n",
    "A = np.random.random(5)\n",
    "B = np.random.random(5)\n",
    "\n",
    "# Step 2: Check if they are exactly equal\n",
    "are_equal = np.array_equal(A, B)\n",
    "\n",
    "# Step 3: Optionally, check for element-wise equality within a tolerance (useful for floating-point numbers)\n",
    "are_close = np.allclose(A, B)\n",
    "\n",
    "# Display results\n",
    "print(f\"Arrays A and B are exactly equal: {are_equal}\")\n",
    "print(f\"Arrays A and B are element-wise close (within tolerance): {are_close}\")\n"
   ]
  },
  {
   "cell_type": "markdown",
   "id": "c68d2401",
   "metadata": {},
   "source": [
    "#### 43. Make an array immutable (read-only) (★★☆)"
   ]
  },
  {
   "cell_type": "code",
   "execution_count": 111,
   "id": "7828539d",
   "metadata": {},
   "outputs": [
    {
     "name": "stdout",
     "output_type": "stream",
     "text": [
      "Error: assignment destination is read-only\n"
     ]
    }
   ],
   "source": [
    "import numpy as np\n",
    "\n",
    "arr = np.random.random(5)\n",
    "\n",
    "arr.flags.writeable = False\n",
    "\n",
    "\n",
    "try:\n",
    "    arr[0] = 10\n",
    "except ValueError as e:\n",
    "    print(\"Error:\", e)\n"
   ]
  },
  {
   "cell_type": "markdown",
   "id": "55df6280",
   "metadata": {},
   "source": [
    "#### 44. Consider a random 10x2 matrix representing cartesian coordinates, convert them to polar coordinates (★★☆)"
   ]
  },
  {
   "cell_type": "code",
   "execution_count": 110,
   "id": "f1c86ea0",
   "metadata": {},
   "outputs": [
    {
     "name": "stdout",
     "output_type": "stream",
     "text": [
      "[[1.03486019 0.84727403]\n",
      " [1.00307776 0.17254994]\n",
      " [0.16848417 0.72516413]\n",
      " [0.87809869 1.34529544]\n",
      " [0.7944941  0.31604298]\n",
      " [0.83224637 1.28238892]\n",
      " [0.89380563 0.27948955]\n",
      " [0.61981145 1.16750109]\n",
      " [0.79913758 0.76331146]\n",
      " [0.4450761  0.69701202]]\n"
     ]
    }
   ],
   "source": [
    "import numpy as np\n",
    "\n",
    "\n",
    "cartesian_coords = np.random.random((10, 2))\n",
    "\n",
    "r = np.linalg.norm(cartesian_coords, axis=1)  \n",
    "theta = np.arctan2(cartesian_coords[:, 1], cartesian_coords[:, 0]) \n",
    "\n",
    "polar_coords = np.column_stack((r, theta))\n",
    "\n",
    "\n",
    "print(polar_coords)\n"
   ]
  },
  {
   "cell_type": "markdown",
   "id": "2f60f1ec",
   "metadata": {},
   "source": [
    "#### 45. Create random vector of size 10 and replace the maximum value by 0 (★★☆)"
   ]
  },
  {
   "cell_type": "code",
   "execution_count": 109,
   "id": "d9f48f1c",
   "metadata": {},
   "outputs": [
    {
     "name": "stdout",
     "output_type": "stream",
     "text": [
      "[0.18467712 0.69922694 0.02189288 0.34552437 0.65999195 0.\n",
      " 0.70442878 0.29468377 0.36452707 0.43757746]\n"
     ]
    }
   ],
   "source": [
    "import numpy as np\n",
    "\n",
    "vector = np.random.random(10)\n",
    "\n",
    "max_index = np.argmax(vector)\n",
    "\n",
    "vector[max_index] = 0\n",
    "\n",
    "print(vector)\n"
   ]
  },
  {
   "cell_type": "markdown",
   "id": "084e8ad4",
   "metadata": {},
   "source": [
    "#### 46. Create a structured array with `x` and `y` coordinates covering the [0,1]x[0,1] area (★★☆)"
   ]
  },
  {
   "cell_type": "code",
   "execution_count": 108,
   "id": "58b47c13",
   "metadata": {},
   "outputs": [
    {
     "name": "stdout",
     "output_type": "stream",
     "text": [
      "[(0.  , 0.  ) (0.25, 0.  ) (0.5 , 0.  ) (0.75, 0.  ) (1.  , 0.  )\n",
      " (0.  , 0.25) (0.25, 0.25) (0.5 , 0.25) (0.75, 0.25) (1.  , 0.25)\n",
      " (0.  , 0.5 ) (0.25, 0.5 ) (0.5 , 0.5 ) (0.75, 0.5 ) (1.  , 0.5 )\n",
      " (0.  , 0.75) (0.25, 0.75) (0.5 , 0.75) (0.75, 0.75) (1.  , 0.75)\n",
      " (0.  , 1.  ) (0.25, 1.  ) (0.5 , 1.  ) (0.75, 1.  ) (1.  , 1.  )]\n"
     ]
    }
   ],
   "source": [
    "import numpy as np\n",
    "\n",
    "\n",
    "n_points = 5  \n",
    "\n",
    "\n",
    "x = np.linspace(0, 1, n_points)\n",
    "y = np.linspace(0, 1, n_points)\n",
    "\n",
    "\n",
    "X, Y = np.meshgrid(x, y)\n",
    "\n",
    "\n",
    "X_flat = X.flatten()\n",
    "Y_flat = Y.flatten()\n",
    "\n",
    "dtype = [('x', float), ('y', float)] \n",
    "coordinates = np.array(list(zip(X_flat, Y_flat)), dtype=dtype)\n",
    "\n",
    "\n",
    "print(coordinates)\n"
   ]
  },
  {
   "cell_type": "markdown",
   "id": "d7b9bc42",
   "metadata": {},
   "source": [
    "#### 47. Given two arrays, X and Y, construct the Cauchy matrix C (Cij =1/(xi - yj)) (★★☆)"
   ]
  },
  {
   "cell_type": "code",
   "execution_count": 107,
   "id": "a24824fb",
   "metadata": {},
   "outputs": [
    {
     "name": "stdout",
     "output_type": "stream",
     "text": [
      "[[-0.33333333 -0.25       -0.2       ]\n",
      " [-0.5        -0.33333333 -0.25      ]\n",
      " [-1.         -0.5        -0.33333333]]\n"
     ]
    }
   ],
   "source": [
    "import numpy as np\n",
    "\n",
    "X = np.array([1, 2, 3])\n",
    "Y = np.array([4, 5, 6])\n",
    "\n",
    "\n",
    "C = 1 / (X[:, None] - Y)\n",
    "\n",
    "\n",
    "print(C)\n"
   ]
  },
  {
   "cell_type": "markdown",
   "id": "65ebc11b",
   "metadata": {},
   "source": [
    "#### 48. Print the minimum and maximum representable value for each numpy scalar type (★★☆)"
   ]
  },
  {
   "cell_type": "code",
   "execution_count": 106,
   "id": "e45d38fb",
   "metadata": {},
   "outputs": [
    {
     "name": "stdout",
     "output_type": "stream",
     "text": [
      "Integer Types:\n",
      "int8: min = -128, max = 127\n",
      "int16: min = -32768, max = 32767\n",
      "int32: min = -2147483648, max = 2147483647\n",
      "int64: min = -9223372036854775808, max = 9223372036854775807\n",
      "\n",
      "Unsigned Integer Types:\n",
      "uint8: min = 0, max = 255\n",
      "uint16: min = 0, max = 65535\n",
      "uint32: min = 0, max = 4294967295\n",
      "uint64: min = 0, max = 18446744073709551615\n",
      "\n",
      "Floating-Point Types:\n",
      "float16: min = -65504.0, max = 65504.0\n",
      "float32: min = -3.4028234663852886e+38, max = 3.4028234663852886e+38\n",
      "float64: min = -1.7976931348623157e+308, max = 1.7976931348623157e+308\n"
     ]
    }
   ],
   "source": [
    "import numpy as np\n",
    "\n",
    "print(\"Integer Types:\")\n",
    "for dtype in [np.int8, np.int16, np.int32, np.int64]:\n",
    "    print(f\"{dtype.__name__}: min = {np.iinfo(dtype).min}, max = {np.iinfo(dtype).max}\")\n",
    "\n",
    "\n",
    "print(\"\\nUnsigned Integer Types:\")\n",
    "for dtype in [np.uint8, np.uint16, np.uint32, np.uint64]:\n",
    "    print(f\"{dtype.__name__}: min = {np.iinfo(dtype).min}, max = {np.iinfo(dtype).max}\")\n",
    "\n",
    "\n",
    "print(\"\\nFloating-Point Types:\")\n",
    "for dtype in [np.float16, np.float32, np.float64]:\n",
    "    print(f\"{dtype.__name__}: min = {np.finfo(dtype).min}, max = {np.finfo(dtype).max}\")\n"
   ]
  },
  {
   "cell_type": "markdown",
   "id": "9b317a98",
   "metadata": {},
   "source": [
    "#### 49. How to print all the values of an array? (★★☆)"
   ]
  },
  {
   "cell_type": "code",
   "execution_count": 105,
   "id": "309cdeb9",
   "metadata": {},
   "outputs": [
    {
     "name": "stdout",
     "output_type": "stream",
     "text": [
      "[[ 1  2  3  4  5]\n",
      " [ 6  7  8  9 10]\n",
      " [11 12 13 14 15]\n",
      " [16 17 18 19 20]\n",
      " [21 22 23 24 25]]\n"
     ]
    }
   ],
   "source": [
    "import numpy as np\n",
    "\n",
    "array = np.array([[1, 2, 3, 4, 5],\n",
    "                  [6, 7, 8, 9, 10],\n",
    "                  [11, 12, 13, 14, 15],\n",
    "                  [16, 17, 18, 19, 20],\n",
    "                  [21, 22, 23, 24, 25]])\n",
    "\n",
    "np.set_printoptions(threshold=np.inf)\n",
    "\n",
    "\n",
    "print(array)\n"
   ]
  },
  {
   "cell_type": "markdown",
   "id": "b580f9d0",
   "metadata": {},
   "source": [
    "#### 50. How to find the closest value (to a given scalar) in a vector? (★★☆)"
   ]
  },
  {
   "cell_type": "code",
   "execution_count": 104,
   "id": "ebfb6714",
   "metadata": {},
   "outputs": [
    {
     "name": "stdout",
     "output_type": "stream",
     "text": [
      "Closest value: 30\n"
     ]
    }
   ],
   "source": [
    "import numpy as np\n",
    "\n",
    "vector = np.array([10, 20, 30, 40, 50])\n",
    "\n",
    "\n",
    "scalar = 35\n",
    "\n",
    "closest_index = np.abs(vector - scalar).argmin()\n",
    "\n",
    "closest_value = vector[closest_index]\n",
    "\n",
    "\n",
    "print(\"Closest value:\", closest_value)\n"
   ]
  },
  {
   "cell_type": "markdown",
   "id": "602e6252",
   "metadata": {},
   "source": [
    "#### 51. Create a structured array representing a position (x,y) and a color (r,g,b) (★★☆)"
   ]
  },
  {
   "cell_type": "code",
   "execution_count": 145,
   "id": "6e2c2684",
   "metadata": {},
   "outputs": [
    {
     "name": "stdout",
     "output_type": "stream",
     "text": [
      "[([1., 2.], [255,   0,   0]) ([3., 4.], [  0, 255,   0])\n",
      " ([5., 6.], [  0,   0, 255])]\n"
     ]
    }
   ],
   "source": [
    "import numpy as np\n",
    "\n",
    "\n",
    "dtype = np.dtype([('position', '2f4'), ('color', '3u1')])\n",
    "\n",
    "data = np.array([((1.0, 2.0), (255, 0, 0)),\n",
    "                 ((3.0, 4.0), (0, 255, 0)),\n",
    "                 ((5.0, 6.0), (0, 0, 255))], dtype=dtype)\n",
    "\n",
    "\n",
    "print(data)\n"
   ]
  },
  {
   "cell_type": "markdown",
   "id": "78bcd92f",
   "metadata": {},
   "source": [
    "#### 52. Consider a random vector with shape (100,2) representing coordinates, find point by point distances (★★☆)"
   ]
  },
  {
   "cell_type": "code",
   "execution_count": 100,
   "id": "fea7f9a6",
   "metadata": {},
   "outputs": [
    {
     "name": "stdout",
     "output_type": "stream",
     "text": [
      "[1. 2. 3. 4.]\n"
     ]
    }
   ],
   "source": [
    "import numpy as np\n",
    "\n",
    "\n",
    "arr = np.array([1.7, 2.3, 3.9, 4.1], dtype=np.float32)\n",
    "\n",
    "arr[:] = arr.astype(np.int32)\n",
    "\n",
    "print(arr)\n"
   ]
  },
  {
   "cell_type": "markdown",
   "id": "343c5a85",
   "metadata": {},
   "source": [
    "#### 53. How to convert a float (32 bits) array into an integer (32 bits) in place?"
   ]
  },
  {
   "cell_type": "code",
   "execution_count": 99,
   "id": "fc1b687b",
   "metadata": {},
   "outputs": [
    {
     "name": "stdout",
     "output_type": "stream",
     "text": [
      "[1. 2. 3. 4.]\n"
     ]
    }
   ],
   "source": [
    "import numpy as np\n",
    "\n",
    "arr = np.array([1.7, 2.3, 3.9, 4.1], dtype=np.float32)\n",
    "\n",
    "\n",
    "arr[:] = arr.astype(np.int32)\n",
    "\n",
    "\n",
    "print(arr)\n"
   ]
  },
  {
   "cell_type": "markdown",
   "id": "a69e1ace",
   "metadata": {},
   "source": [
    "#### 54. How to read the following file? (★★☆)\n",
    "```\n",
    "1, 2, 3, 4, 5\n",
    "6,  ,  , 7, 8\n",
    " ,  , 9,10,11\n",
    "```"
   ]
  },
  {
   "cell_type": "code",
   "execution_count": 98,
   "id": "c1fbaf54",
   "metadata": {},
   "outputs": [
    {
     "ename": "FileNotFoundError",
     "evalue": "data.csv not found.",
     "output_type": "error",
     "traceback": [
      "\u001b[1;31m---------------------------------------------------------------------------\u001b[0m",
      "\u001b[1;31mFileNotFoundError\u001b[0m                         Traceback (most recent call last)",
      "Cell \u001b[1;32mIn[98], line 4\u001b[0m\n\u001b[0;32m      1\u001b[0m \u001b[38;5;28;01mimport\u001b[39;00m \u001b[38;5;21;01mnumpy\u001b[39;00m \u001b[38;5;28;01mas\u001b[39;00m \u001b[38;5;21;01mnp\u001b[39;00m\n\u001b[0;32m      3\u001b[0m \u001b[38;5;66;03m# Read the file using numpy.genfromtxt\u001b[39;00m\n\u001b[1;32m----> 4\u001b[0m data \u001b[38;5;241m=\u001b[39m \u001b[43mnp\u001b[49m\u001b[38;5;241;43m.\u001b[39;49m\u001b[43mgenfromtxt\u001b[49m\u001b[43m(\u001b[49m\u001b[38;5;124;43m'\u001b[39;49m\u001b[38;5;124;43mdata.csv\u001b[39;49m\u001b[38;5;124;43m'\u001b[39;49m\u001b[43m,\u001b[49m\u001b[43m \u001b[49m\u001b[43mdelimiter\u001b[49m\u001b[38;5;241;43m=\u001b[39;49m\u001b[38;5;124;43m'\u001b[39;49m\u001b[38;5;124;43m,\u001b[39;49m\u001b[38;5;124;43m'\u001b[39;49m\u001b[43m,\u001b[49m\u001b[43m \u001b[49m\u001b[43mdtype\u001b[49m\u001b[38;5;241;43m=\u001b[39;49m\u001b[38;5;28;43mfloat\u001b[39;49m\u001b[43m,\u001b[49m\u001b[43m \u001b[49m\u001b[43mfilling_values\u001b[49m\u001b[38;5;241;43m=\u001b[39;49m\u001b[43mnp\u001b[49m\u001b[38;5;241;43m.\u001b[39;49m\u001b[43mnan\u001b[49m\u001b[43m)\u001b[49m\n\u001b[0;32m      6\u001b[0m \u001b[38;5;66;03m# Display the loaded data\u001b[39;00m\n\u001b[0;32m      7\u001b[0m \u001b[38;5;28mprint\u001b[39m(data)\n",
      "File \u001b[1;32m~\\AppData\\Roaming\\Python\\Python312\\site-packages\\numpy\\lib\\_npyio_impl.py:2007\u001b[0m, in \u001b[0;36mgenfromtxt\u001b[1;34m(fname, dtype, comments, delimiter, skip_header, skip_footer, converters, missing_values, filling_values, usecols, names, excludelist, deletechars, replace_space, autostrip, case_sensitive, defaultfmt, unpack, usemask, loose, invalid_raise, max_rows, encoding, ndmin, like)\u001b[0m\n\u001b[0;32m   2005\u001b[0m     fname \u001b[38;5;241m=\u001b[39m os\u001b[38;5;241m.\u001b[39mfspath(fname)\n\u001b[0;32m   2006\u001b[0m \u001b[38;5;28;01mif\u001b[39;00m \u001b[38;5;28misinstance\u001b[39m(fname, \u001b[38;5;28mstr\u001b[39m):\n\u001b[1;32m-> 2007\u001b[0m     fid \u001b[38;5;241m=\u001b[39m \u001b[43mnp\u001b[49m\u001b[38;5;241;43m.\u001b[39;49m\u001b[43mlib\u001b[49m\u001b[38;5;241;43m.\u001b[39;49m\u001b[43m_datasource\u001b[49m\u001b[38;5;241;43m.\u001b[39;49m\u001b[43mopen\u001b[49m\u001b[43m(\u001b[49m\u001b[43mfname\u001b[49m\u001b[43m,\u001b[49m\u001b[43m \u001b[49m\u001b[38;5;124;43m'\u001b[39;49m\u001b[38;5;124;43mrt\u001b[39;49m\u001b[38;5;124;43m'\u001b[39;49m\u001b[43m,\u001b[49m\u001b[43m \u001b[49m\u001b[43mencoding\u001b[49m\u001b[38;5;241;43m=\u001b[39;49m\u001b[43mencoding\u001b[49m\u001b[43m)\u001b[49m\n\u001b[0;32m   2008\u001b[0m     fid_ctx \u001b[38;5;241m=\u001b[39m contextlib\u001b[38;5;241m.\u001b[39mclosing(fid)\n\u001b[0;32m   2009\u001b[0m \u001b[38;5;28;01melse\u001b[39;00m:\n",
      "File \u001b[1;32m~\\AppData\\Roaming\\Python\\Python312\\site-packages\\numpy\\lib\\_datasource.py:192\u001b[0m, in \u001b[0;36mopen\u001b[1;34m(path, mode, destpath, encoding, newline)\u001b[0m\n\u001b[0;32m    155\u001b[0m \u001b[38;5;250m\u001b[39m\u001b[38;5;124;03m\"\"\"\u001b[39;00m\n\u001b[0;32m    156\u001b[0m \u001b[38;5;124;03mOpen `path` with `mode` and return the file object.\u001b[39;00m\n\u001b[0;32m    157\u001b[0m \n\u001b[1;32m   (...)\u001b[0m\n\u001b[0;32m    188\u001b[0m \n\u001b[0;32m    189\u001b[0m \u001b[38;5;124;03m\"\"\"\u001b[39;00m\n\u001b[0;32m    191\u001b[0m ds \u001b[38;5;241m=\u001b[39m DataSource(destpath)\n\u001b[1;32m--> 192\u001b[0m \u001b[38;5;28;01mreturn\u001b[39;00m \u001b[43mds\u001b[49m\u001b[38;5;241;43m.\u001b[39;49m\u001b[43mopen\u001b[49m\u001b[43m(\u001b[49m\u001b[43mpath\u001b[49m\u001b[43m,\u001b[49m\u001b[43m \u001b[49m\u001b[43mmode\u001b[49m\u001b[43m,\u001b[49m\u001b[43m \u001b[49m\u001b[43mencoding\u001b[49m\u001b[38;5;241;43m=\u001b[39;49m\u001b[43mencoding\u001b[49m\u001b[43m,\u001b[49m\u001b[43m \u001b[49m\u001b[43mnewline\u001b[49m\u001b[38;5;241;43m=\u001b[39;49m\u001b[43mnewline\u001b[49m\u001b[43m)\u001b[49m\n",
      "File \u001b[1;32m~\\AppData\\Roaming\\Python\\Python312\\site-packages\\numpy\\lib\\_datasource.py:529\u001b[0m, in \u001b[0;36mDataSource.open\u001b[1;34m(self, path, mode, encoding, newline)\u001b[0m\n\u001b[0;32m    526\u001b[0m     \u001b[38;5;28;01mreturn\u001b[39;00m _file_openers[ext](found, mode\u001b[38;5;241m=\u001b[39mmode,\n\u001b[0;32m    527\u001b[0m                               encoding\u001b[38;5;241m=\u001b[39mencoding, newline\u001b[38;5;241m=\u001b[39mnewline)\n\u001b[0;32m    528\u001b[0m \u001b[38;5;28;01melse\u001b[39;00m:\n\u001b[1;32m--> 529\u001b[0m     \u001b[38;5;28;01mraise\u001b[39;00m \u001b[38;5;167;01mFileNotFoundError\u001b[39;00m(\u001b[38;5;124mf\u001b[39m\u001b[38;5;124m\"\u001b[39m\u001b[38;5;132;01m{\u001b[39;00mpath\u001b[38;5;132;01m}\u001b[39;00m\u001b[38;5;124m not found.\u001b[39m\u001b[38;5;124m\"\u001b[39m)\n",
      "\u001b[1;31mFileNotFoundError\u001b[0m: data.csv not found."
     ]
    }
   ],
   "source": [
    "import numpy as np\n",
    "\n",
    "# Read the file using numpy.genfromtxt\n",
    "data = np.genfromtxt('data.csv', delimiter=',', dtype=float, filling_values=np.nan)\n",
    "\n",
    "# Display the loaded data\n",
    "print(data)\n"
   ]
  },
  {
   "cell_type": "markdown",
   "id": "c23bd80d",
   "metadata": {},
   "source": [
    "#### 55. What is the equivalent of enumerate for numpy arrays? (★★☆)"
   ]
  },
  {
   "cell_type": "code",
   "execution_count": 95,
   "id": "d95d9578",
   "metadata": {},
   "outputs": [
    {
     "name": "stdout",
     "output_type": "stream",
     "text": [
      "Index: (0,), Value: 10\n",
      "Index: (1,), Value: 20\n",
      "Index: (2,), Value: 30\n",
      "Index: (3,), Value: 40\n",
      "Index: (4,), Value: 50\n"
     ]
    }
   ],
   "source": [
    "import numpy as np\n",
    "\n",
    "arr = np.array([10, 20, 30, 40, 50])\n",
    "\n",
    "\n",
    "for idx, value in np.ndenumerate(arr):\n",
    "    print(f\"Index: {idx}, Value: {value}\")\n"
   ]
  },
  {
   "cell_type": "markdown",
   "id": "2153a5ec",
   "metadata": {},
   "source": [
    "#### 56. Generate a generic 2D Gaussian-like array (★★☆)"
   ]
  },
  {
   "cell_type": "code",
   "execution_count": 94,
   "id": "61122d1e",
   "metadata": {},
   "outputs": [
    {
     "name": "stdout",
     "output_type": "stream",
     "text": [
      "Generated 2D Gaussian-like array:\n",
      "[[0.01831564 0.082085   0.13533528 0.082085   0.01831564]\n",
      " [0.082085   0.36787944 0.60653066 0.36787944 0.082085  ]\n",
      " [0.13533528 0.60653066 1.         0.60653066 0.13533528]\n",
      " [0.082085   0.36787944 0.60653066 0.36787944 0.082085  ]\n",
      " [0.01831564 0.082085   0.13533528 0.082085   0.01831564]]\n"
     ]
    },
    {
     "data": {
      "image/png": "[encoded data removed]",
      "text/plain": [
       "<Figure size 640x480 with 2 Axes>"
      ]
     },
     "metadata": {},
     "output_type": "display_data"
    }
   ],
   "source": [
    "import numpy as np\n",
    "import matplotlib.pyplot as plt\n",
    "\n",
    "\n",
    "rows, cols = 5, 5\n",
    "\n",
    "\n",
    "x = np.linspace(-1, 1, cols)\n",
    "y = np.linspace(-1, 1, rows)\n",
    "\n",
    "\n",
    "X, Y = np.meshgrid(x, y)\n",
    "\n",
    "\n",
    "sigma = 0.5  \n",
    "mean = 0     \n",
    "\n",
    "\n",
    "Z = np.exp(-(X**2 + Y**2) / (2 * sigma**2))\n",
    "\n",
    "print(\"Generated 2D Gaussian-like array:\")\n",
    "print(Z)\n",
    "\n",
    "\n",
    "plt.imshow(Z, cmap='hot', interpolation='nearest')\n",
    "plt.colorbar()\n",
    "plt.title(\"2D Gaussian-like Array\")\n",
    "plt.show()\n"
   ]
  },
  {
   "cell_type": "markdown",
   "id": "2e76d589",
   "metadata": {},
   "source": [
    "#### 57. How to randomly place p elements in a 2D array? (★★☆)"
   ]
  },
  {
   "cell_type": "code",
   "execution_count": 93,
   "id": "0c2e4fcc",
   "metadata": {},
   "outputs": [
    {
     "name": "stdout",
     "output_type": "stream",
     "text": [
      "Array after randomly placing elements:\n",
      "[[0. 0. 7. 0. 0.]\n",
      " [0. 0. 0. 0. 0.]\n",
      " [0. 0. 0. 9. 0.]\n",
      " [0. 0. 0. 3. 2.]\n",
      " [0. 6. 0. 0. 0.]]\n"
     ]
    }
   ],
   "source": [
    "import numpy as np\n",
    "\n",
    "\n",
    "rows, cols = 5, 5 \n",
    "p = 5 \n",
    "\n",
    "\n",
    "arr = np.zeros((rows, cols))\n",
    "\n",
    "\n",
    "indices = np.random.choice(arr.size, p, replace=False)\n",
    "\n",
    "\n",
    "row_indices, col_indices = np.unravel_index(indices, arr.shape)\n",
    "\n",
    "arr[row_indices, col_indices] = np.random.randint(1, 10, size=p)\n",
    "\n",
    "print(\"Array after randomly placing elements:\")\n",
    "print(arr)\n"
   ]
  },
  {
   "cell_type": "markdown",
   "id": "8b3933eb",
   "metadata": {},
   "source": [
    "#### 58. Subtract the mean of each row of a matrix (★★☆)"
   ]
  },
  {
   "cell_type": "code",
   "execution_count": 92,
   "id": "a306c9ef",
   "metadata": {},
   "outputs": [
    {
     "name": "stdout",
     "output_type": "stream",
     "text": [
      "Original matrix:\n",
      "[[1 2 3]\n",
      " [4 5 6]\n",
      " [7 8 9]]\n",
      "\n",
      "Matrix after subtracting the row mean:\n",
      "[[-1.  0.  1.]\n",
      " [-1.  0.  1.]\n",
      " [-1.  0.  1.]]\n"
     ]
    }
   ],
   "source": [
    "import numpy as np\n",
    "\n",
    "\n",
    "arr = np.array([[1, 2, 3],\n",
    "                [4, 5, 6],\n",
    "                [7, 8, 9]])\n",
    "\n",
    "\n",
    "row_means = np.mean(arr, axis=1, keepdims=True)\n",
    "\n",
    "\n",
    "result = arr - row_means\n",
    "\n",
    "print(\"Original matrix:\")\n",
    "print(arr)\n",
    "print(\"\\nMatrix after subtracting the row mean:\")\n",
    "print(result)\n"
   ]
  },
  {
   "cell_type": "markdown",
   "id": "ea8807c0",
   "metadata": {},
   "source": [
    "#### 59. How to sort an array by the nth column? (★★☆)"
   ]
  },
  {
   "cell_type": "code",
   "execution_count": 91,
   "id": "cc89a699",
   "metadata": {},
   "outputs": [
    {
     "name": "stdout",
     "output_type": "stream",
     "text": [
      "Sorted array by the 1th column:\n",
      "[[3 2 5]\n",
      " [1 4 3]\n",
      " [2 8 7]]\n"
     ]
    }
   ],
   "source": [
    "import numpy as np\n",
    "\n",
    "\n",
    "arr = np.array([[1, 4, 3],\n",
    "                [3, 2, 5],\n",
    "                [2, 8, 7]])\n",
    "\n",
    "\n",
    "n = 1\n",
    "\n",
    "\n",
    "sorted_indices = np.argsort(arr[:, n])\n",
    "\n",
    "\n",
    "sorted_arr = arr[sorted_indices]\n",
    "\n",
    "print(\"Sorted array by the {}th column:\".format(n))\n",
    "print(sorted_arr)\n"
   ]
  },
  {
   "cell_type": "markdown",
   "id": "00fa00a1",
   "metadata": {},
   "source": [
    "#### 60. How to tell if a given 2D array has null columns? (★★☆)"
   ]
  },
  {
   "cell_type": "code",
   "execution_count": 90,
   "id": "3436e165",
   "metadata": {},
   "outputs": [
    {
     "name": "stdout",
     "output_type": "stream",
     "text": [
      "Null columns: [False False False]\n"
     ]
    }
   ],
   "source": [
    "import numpy as np\n",
    "\n",
    "\n",
    "arr = np.array([[1, 2, 3],\n",
    "                [0, 0, 0],\n",
    "                [4, 5, 6]])\n",
    "\n",
    "\n",
    "null_columns = np.all(arr == 0, axis=0)\n",
    "\n",
    "\n",
    "print(\"Null columns:\", null_columns)\n"
   ]
  },
  {
   "cell_type": "markdown",
   "id": "5a65c7a2",
   "metadata": {},
   "source": [
    "#### 61. Find the nearest value from a given value in an array (★★☆)"
   ]
  },
  {
   "cell_type": "code",
   "execution_count": 89,
   "id": "73f149d6",
   "metadata": {},
   "outputs": [
    {
     "name": "stdout",
     "output_type": "stream",
     "text": [
      "Nearest value to 35 is 30\n"
     ]
    }
   ],
   "source": [
    "import numpy as np\n",
    "\n",
    "arr = np.array([10, 20, 30, 40, 50])\n",
    "\n",
    "\n",
    "value = 35\n",
    "\n",
    "\n",
    "nearest_index = np.abs(arr - value).argmin()\n",
    "\n",
    "\n",
    "nearest_value = arr[nearest_index]\n",
    "\n",
    "print(\"Nearest value to\", value, \"is\", nearest_value)\n"
   ]
  },
  {
   "cell_type": "markdown",
   "id": "dd83e8af",
   "metadata": {},
   "source": [
    "#### 62. Considering two arrays with shape (1,3) and (3,1), how to compute their sum using an iterator? (★★☆)"
   ]
  },
  {
   "cell_type": "code",
   "execution_count": 88,
   "id": "29a709a1",
   "metadata": {},
   "outputs": [
    {
     "name": "stdout",
     "output_type": "stream",
     "text": [
      "Sum result:\n",
      "[[5. 7. 9.]]\n"
     ]
    }
   ],
   "source": [
    "import numpy as np\n",
    "\n",
    "\n",
    "arr1 = np.array([[1, 2, 3]])\n",
    "arr2 = np.array([[4], [5], [6]])\n",
    "\n",
    "sum_result = np.zeros((1, 3))\n",
    "\n",
    "\n",
    "iterator = np.nditer([arr1, arr2.T, sum_result], flags=['multi_index'])\n",
    "\n",
    "\n",
    "for i in iterator:\n",
    "    sum_result[iterator.multi_index] = iterator[0] + iterator[1]\n",
    "\n",
    "print(\"Sum result:\")\n",
    "print(sum_result)\n"
   ]
  },
  {
   "cell_type": "markdown",
   "id": "6c042efa",
   "metadata": {},
   "source": [
    "#### 63. Create an array class that has a name attribute (★★☆)"
   ]
  },
  {
   "cell_type": "code",
   "execution_count": 87,
   "id": "45b3d2e0",
   "metadata": {},
   "outputs": [
    {
     "name": "stdout",
     "output_type": "stream",
     "text": [
      "[[1 2 3]\n",
      " [4 5 6]\n",
      " [7 8 9]]\n",
      "Array Name: My Custom Array\n"
     ]
    }
   ],
   "source": [
    "import numpy as np\n",
    "\n",
    "class NamedArray(np.ndarray):\n",
    "    def __new__(cls, shape, dtype=float, name=\"Unnamed Array\"):\n",
    "       \n",
    "        obj = super(NamedArray, cls).__new__(cls, shape, dtype)\n",
    "        \n",
    "        obj.name = name\n",
    "        return obj\n",
    "\n",
    "    def __array_finalize__(self, obj):\n",
    "        \n",
    "        self.name = getattr(obj, 'name', \"Unnamed Array\")\n",
    "\n",
    "\n",
    "arr = NamedArray((3, 3), dtype=int, name=\"My Custom Array\")\n",
    "print(arr)\n",
    "print(\"Array Name:\", arr.name)\n"
   ]
  },
  {
   "cell_type": "markdown",
   "id": "0a075c3d",
   "metadata": {},
   "source": [
    "#### 64. Consider a given vector, how to add 1 to each element indexed by a second vector (be careful with repeated indices)? (★★★)"
   ]
  },
  {
   "cell_type": "code",
   "execution_count": 86,
   "id": "36c50470",
   "metadata": {},
   "outputs": [
    {
     "name": "stdout",
     "output_type": "stream",
     "text": [
      "[11 21 32 40 51]\n"
     ]
    }
   ],
   "source": [
    "import numpy as np\n",
    "\n",
    "\n",
    "X = np.array([10, 20, 30, 40, 50])\n",
    "\n",
    "\n",
    "I = np.array([0, 2, 2, 4, 1])\n",
    "\n",
    "\n",
    "np.add.at(X, I, 1)\n",
    "\n",
    "print(X)\n"
   ]
  },
  {
   "cell_type": "markdown",
   "id": "0fb2f0c5",
   "metadata": {},
   "source": [
    "#### 65. How to accumulate elements of a vector (X) to an array (F) based on an index list (I)? (★★★)"
   ]
  },
  {
   "cell_type": "code",
   "execution_count": 85,
   "id": "03cfedd0",
   "metadata": {},
   "outputs": [
    {
     "name": "stdout",
     "output_type": "stream",
     "text": [
      "[1. 5. 5. 0. 4.]\n"
     ]
    }
   ],
   "source": [
    "import numpy as np\n",
    "\n",
    "# Sample vector X and index list I\n",
    "X = np.array([1, 2, 3, 4, 5])\n",
    "I = np.array([0, 2, 2, 4, 1])\n",
    "\n",
    "# Initialize the array F with zeros\n",
    "F = np.zeros(5)\n",
    "\n",
    "# Accumulate the values of X into F based on indices from I\n",
    "np.add.at(F, I, X)\n",
    "\n",
    "print(F)\n"
   ]
  },
  {
   "cell_type": "markdown",
   "id": "d89dc506",
   "metadata": {},
   "source": [
    "#### 66. Considering a (w,h,3) image of (dtype=ubyte), compute the number of unique colors (★★☆)"
   ]
  },
  {
   "cell_type": "code",
   "execution_count": 69,
   "id": "8fb43a49",
   "metadata": {},
   "outputs": [
    {
     "name": "stdout",
     "output_type": "stream",
     "text": [
      "Number of unique colors: 12\n"
     ]
    }
   ],
   "source": [
    "import numpy as np\n",
    "\n",
    "\n",
    "image = np.random.randint(0, 256, size=(4, 3, 3), dtype=np.uint8)\n",
    "\n",
    "reshaped_image = image.reshape(-1, 3)\n",
    "\n",
    "\n",
    "unique_colors = np.unique(reshaped_image, axis=0)\n",
    "\n",
    "\n",
    "num_unique_colors = unique_colors.shape[0]\n",
    "\n",
    "print(\"Number of unique colors:\", num_unique_colors)\n"
   ]
  },
  {
   "cell_type": "markdown",
   "id": "535a5d81",
   "metadata": {},
   "source": [
    "#### 67. Considering a four dimensions array, how to get sum over the last two axis at once? (★★★)"
   ]
  },
  {
   "cell_type": "code",
   "execution_count": 68,
   "id": "f954ab9d",
   "metadata": {},
   "outputs": [
    {
     "name": "stdout",
     "output_type": "stream",
     "text": [
      "Original array shape: (2, 3, 4, 5)\n",
      "Sum over the last two axes: [[11.64456949 10.53755611  7.81072278]\n",
      " [10.78032826 10.29703155 14.0765776 ]]\n"
     ]
    }
   ],
   "source": [
    "import numpy as np\n",
    "\n",
    "\n",
    "arr = np.random.rand(2, 3, 4, 5)\n",
    "\n",
    "\n",
    "sum_result = np.sum(arr, axis=(-2, -1))\n",
    "\n",
    "print(\"Original array shape:\", arr.shape)\n",
    "print(\"Sum over the last two axes:\", sum_result)\n"
   ]
  },
  {
   "cell_type": "markdown",
   "id": "eee66d3c",
   "metadata": {},
   "source": [
    "#### 68. Considering a one-dimensional vector D, how to compute means of subsets of D using a vector S of same size describing subset  indices? (★★★)"
   ]
  },
  {
   "cell_type": "code",
   "execution_count": 67,
   "id": "8929773a",
   "metadata": {},
   "outputs": [
    {
     "name": "stdout",
     "output_type": "stream",
     "text": [
      "Unique subset labels: [0 1 2 3]\n",
      "Means of subsets: [np.float64(1.5), np.float64(3.5), np.float64(5.5), np.float64(7.5)]\n"
     ]
    }
   ],
   "source": [
    "import numpy as np\n",
    "\n",
    "def compute_means(D, S):\n",
    "   \n",
    "    D = np.array(D)\n",
    "    S = np.array(S)\n",
    "    \n",
    "    unique_labels = np.unique(S)\n",
    "    \n",
    "  \n",
    "    means = [D[S == label].mean() for label in unique_labels]\n",
    "    \n",
    "    return unique_labels, means\n",
    "\n",
    "\n",
    "D = np.array([1, 2, 3, 4, 5, 6, 7, 8])\n",
    "S = np.array([0, 0, 1, 1, 2, 2, 3, 3])  #\n",
    "unique_labels, means = compute_means(D, S)\n",
    "\n",
    "print(\"Unique subset labels:\", unique_labels)\n",
    "print(\"Means of subsets:\", means)\n"
   ]
  },
  {
   "cell_type": "markdown",
   "id": "f90d4c40",
   "metadata": {},
   "source": [
    "#### 69. How to get the diagonal of a dot product? (★★★)"
   ]
  },
  {
   "cell_type": "code",
   "execution_count": 66,
   "id": "b47d392d",
   "metadata": {},
   "outputs": [
    {
     "name": "stdout",
     "output_type": "stream",
     "text": [
      "Dot product of A and B:\n",
      "[[ 25  28]\n",
      " [ 57  64]\n",
      " [ 89 100]]\n",
      "\n",
      "Diagonal of the dot product:\n",
      "[25 64]\n"
     ]
    }
   ],
   "source": [
    "import numpy as np\n",
    "\n",
    "\n",
    "A = np.array([[1, 2], [3, 4], [5, 6]])\n",
    "B = np.array([[7, 8], [9, 10]])\n",
    "\n",
    "\n",
    "dot_product = np.dot(A, B)\n",
    "\n",
    "\n",
    "diagonal = np.diagonal(dot_product)\n",
    "\n",
    "print(\"Dot product of A and B:\")\n",
    "print(dot_product)\n",
    "\n",
    "print(\"\\nDiagonal of the dot product:\")\n",
    "print(diagonal)\n"
   ]
  },
  {
   "cell_type": "markdown",
   "id": "6ba0a90e",
   "metadata": {},
   "source": [
    "#### 69. How to get the diagonal of a dot product? (★★★)"
   ]
  },
  {
   "cell_type": "markdown",
   "id": "a8a97e7d",
   "metadata": {},
   "source": [
    "#### 70. Consider the vector [1, 2, 3, 4, 5], how to build a new vector with 3 consecutive zeros interleaved between each value? (★★★)"
   ]
  },
  {
   "cell_type": "code",
   "execution_count": 65,
   "id": "ee6c6c37",
   "metadata": {},
   "outputs": [
    {
     "name": "stdout",
     "output_type": "stream",
     "text": [
      "Original array: [1 2 3 4 5]\n",
      "Array after interleaving 3 zeros: [1 0 0 0 2 0 0 0 3 0 0 0 4 0 0 0 5]\n"
     ]
    }
   ],
   "source": [
    "import numpy as np\n",
    "\n",
    "def interleave_zeros(arr, num_zeros=3):\n",
    "  \n",
    "    new_size = len(arr) + (len(arr) - 1) * num_zeros\n",
    "   \n",
    "    result = np.zeros(new_size, dtype=arr.dtype)\n",
    "    \n",
    "\n",
    "    result[::num_zeros + 1] = arr\n",
    "    return result\n",
    "\n",
    "\n",
    "arr = np.array([1, 2, 3, 4, 5])\n",
    "new_arr = interleave_zeros(arr, 3)\n",
    "\n",
    "print(\"Original array:\", arr)\n",
    "print(\"Array after interleaving 3 zeros:\", new_arr)\n"
   ]
  },
  {
   "cell_type": "markdown",
   "id": "d6a30d60",
   "metadata": {},
   "source": [
    "#### 71. Consider an array of dimension (5,5,3), how to mulitply it by an array with dimensions (5,5)? (★★★)"
   ]
  },
  {
   "cell_type": "code",
   "execution_count": 64,
   "id": "e9703f2e",
   "metadata": {},
   "outputs": [
    {
     "name": "stdout",
     "output_type": "stream",
     "text": [
      "Resulting array shape: (5, 5, 3)\n",
      "[[[1.30621722e-01 6.79223641e-01 1.16520206e-01]\n",
      "  [3.95128883e-01 2.23494960e-01 1.81638658e-01]\n",
      "  [4.82856150e-02 2.74104350e-01 2.73530785e-01]\n",
      "  [5.12174397e-01 1.80176454e-01 3.01631586e-02]\n",
      "  [2.65599096e-01 2.66969453e-01 3.42957946e-04]]\n",
      "\n",
      " [[2.56340617e-02 4.66958483e-02 5.91641751e-02]\n",
      "  [3.02385569e-01 1.64670098e-01 7.90869985e-01]\n",
      "  [4.86105290e-01 1.78810547e-01 1.94620825e-02]\n",
      "  [3.84154975e-02 7.87638521e-02 2.57468331e-02]\n",
      "  [1.84090298e-01 4.89876210e-02 2.33192384e-01]]\n",
      "\n",
      " [[8.47987907e-03 6.52010339e-02 9.17530730e-02]\n",
      "  [3.04500307e-01 3.65266263e-01 7.22823100e-01]\n",
      "  [3.02041584e-01 2.93314574e-01 1.14091817e-01]\n",
      "  [4.73838874e-01 7.71679699e-02 4.51335004e-01]\n",
      "  [4.03037421e-01 2.60716372e-01 4.09659289e-01]]\n",
      "\n",
      " [[9.37026059e-02 1.12873940e-02 1.83362634e-02]\n",
      "  [2.16951220e-01 2.05590456e-01 1.99170599e-01]\n",
      "  [1.08828860e-01 2.99682767e-01 3.87038950e-01]\n",
      "  [7.71054643e-01 6.97389196e-01 4.97480428e-01]\n",
      "  [1.47096362e-01 1.12828301e-01 1.56052673e-01]]\n",
      "\n",
      " [[1.44693276e-01 1.33261449e-01 1.33965426e-01]\n",
      "  [2.30762381e-03 6.76857870e-03 3.89940773e-04]\n",
      "  [2.81432842e-01 3.96420693e-03 3.61702027e-01]\n",
      "  [3.47905846e-02 4.49030579e-01 1.72181069e-01]\n",
      "  [2.78503873e-01 1.10266888e-01 1.78727028e-01]]]\n"
     ]
    }
   ],
   "source": [
    "import numpy as np\n",
    "\n",
    "\n",
    "arr_3d = np.random.rand(5, 5, 3)\n",
    "\n",
    "\n",
    "arr_2d = np.random.rand(5, 5)\n",
    "\n",
    "result = arr_3d * arr_2d[:, :, np.newaxis] \n",
    "\n",
    "print(\"Resulting array shape:\", result.shape)\n",
    "print(result)\n"
   ]
  },
  {
   "cell_type": "markdown",
   "id": "bac359a9",
   "metadata": {},
   "source": [
    "#### 72. How to swap two rows of an array? (★★★)"
   ]
  },
  {
   "cell_type": "code",
   "execution_count": 63,
   "id": "f1b432b1",
   "metadata": {},
   "outputs": [
    {
     "name": "stdout",
     "output_type": "stream",
     "text": [
      "Original array:\n",
      "[[1 2 3]\n",
      " [4 5 6]\n",
      " [7 8 9]]\n",
      "\n",
      "Array after swapping rows 0 and 2:\n",
      "[[7 8 9]\n",
      " [4 5 6]\n",
      " [7 8 9]]\n"
     ]
    }
   ],
   "source": [
    "import numpy as np\n",
    "\n",
    "def swap_rows(arr, row1, row2):\n",
    "    \"\"\"\n",
    "    Swap two rows in a 2D NumPy array.\n",
    "\n",
    "    Parameters:\n",
    "    - arr: The 2D NumPy array.\n",
    "    - row1: Index of the first row to be swapped.\n",
    "    - row2: Index of the second row to be swapped.\n",
    "    \"\"\"\n",
    "    arr[row1], arr[row2] = arr[row2], arr[row1]\n",
    "\n",
    "\n",
    "arr = np.array([[1, 2, 3], [4, 5, 6], [7, 8, 9]])\n",
    "print(\"Original array:\")\n",
    "print(arr)\n",
    "\n",
    "swap_rows(arr, 0, 2)  \n",
    "\n",
    "print(\"\\nArray after swapping rows 0 and 2:\")\n",
    "print(arr)\n"
   ]
  },
  {
   "cell_type": "markdown",
   "id": "620c9f83",
   "metadata": {},
   "source": [
    "#### 73. Consider a set of 10 triplets describing 10 triangles (with shared vertices), find the set of unique line segments composing all the  triangles (★★★)"
   ]
  },
  {
   "cell_type": "code",
   "execution_count": 62,
   "id": "4e595ffc",
   "metadata": {},
   "outputs": [
    {
     "name": "stdout",
     "output_type": "stream",
     "text": [
      "Unique edges:\n",
      "(0, 1)\n",
      "(0, 2)\n",
      "(0, 3)\n",
      "(0, 4)\n",
      "(0, 6)\n",
      "(0, 7)\n",
      "(0, 9)\n",
      "(1, 2)\n",
      "(1, 3)\n",
      "(1, 4)\n",
      "(1, 5)\n",
      "(1, 9)\n",
      "(2, 3)\n",
      "(2, 5)\n",
      "(2, 6)\n",
      "(3, 4)\n",
      "(3, 5)\n",
      "(3, 7)\n",
      "(3, 8)\n",
      "(4, 5)\n",
      "(4, 8)\n",
      "(4, 9)\n",
      "(5, 6)\n",
      "(6, 7)\n",
      "(7, 8)\n",
      "(8, 9)\n"
     ]
    }
   ],
   "source": [
    "import numpy as np\n",
    "\n",
    "def unique_edges_from_triangles(triplets):\n",
    "    \"\"\"\n",
    "    Given a set of triplets representing triangles, find the unique edges.\n",
    "\n",
    "    Parameters:\n",
    "    - triplets: A list of triplets, where each triplet contains 3 vertices representing a triangle.\n",
    "\n",
    "    Returns:\n",
    "    - unique_edges: A set of unique edges (represented as sorted tuples of vertex indices).\n",
    "    \"\"\"\n",
    "    edges = set()\n",
    "\n",
    "    for triangle in triplets:\n",
    "       \n",
    "        for i in range(3):\n",
    "            edge = tuple(sorted([triangle[i], triangle[(i + 1) % 3]])) \n",
    "            edges.add(edge)\n",
    "    \n",
    "    return edges\n",
    "\n",
    "\n",
    "triplets = [\n",
    "    (0, 1, 2),\n",
    "    (1, 2, 3),\n",
    "    (0, 3, 4),\n",
    "    (1, 4, 5),\n",
    "    (2, 5, 6),\n",
    "    (0, 6, 7),\n",
    "    (3, 7, 8),\n",
    "    (4, 8, 9),\n",
    "    (1, 9, 0),\n",
    "    (2, 3, 5)\n",
    "]\n",
    "\n",
    "unique_edges = unique_edges_from_triangles(triplets)\n",
    "\n",
    "print(\"Unique edges:\")\n",
    "for edge in sorted(unique_edges):\n",
    "    print(edge)\n"
   ]
  },
  {
   "cell_type": "markdown",
   "id": "a76c55a2",
   "metadata": {},
   "source": [
    "#### 74. Given a sorted array C that corresponds to a bincount, how to produce an array A such that np.bincount(A) == C? (★★★)"
   ]
  },
  {
   "cell_type": "code",
   "execution_count": 61,
   "id": "2d2ae65a",
   "metadata": {},
   "outputs": [
    {
     "name": "stdout",
     "output_type": "stream",
     "text": [
      "Array A: [1 1 2 2 2 3]\n",
      "Bincount of A: [0 2 3 1]\n"
     ]
    }
   ],
   "source": [
    "import numpy as np\n",
    "\n",
    "def bincount_to_array(C):\n",
    "    \"\"\"\n",
    "    Given a sorted bincount array C, reconstruct the original array A such that np.bincount(A) == C.\n",
    "\n",
    "    Parameters:\n",
    "    - C: A sorted bincount array (1D array)\n",
    "\n",
    "    Returns:\n",
    "    - A: The array such that np.bincount(A) == C\n",
    "    \"\"\"\n",
    "    A = np.concatenate([np.full(count, i) for i, count in enumerate(C)])\n",
    "    return A\n",
    "\n",
    "\n",
    "C = np.array([0, 2, 3, 1]) \n",
    "A = bincount_to_array(C)\n",
    "\n",
    "print(\"Array A:\", A)\n",
    "print(\"Bincount of A:\", np.bincount(A))\n"
   ]
  },
  {
   "cell_type": "markdown",
   "id": "d550c8e2",
   "metadata": {},
   "source": [
    "#### 75. How to compute averages using a sliding window over an array? (★★★)"
   ]
  },
  {
   "cell_type": "code",
   "execution_count": 60,
   "id": "841c457c",
   "metadata": {},
   "outputs": [
    {
     "name": "stdout",
     "output_type": "stream",
     "text": [
      "[2. 3. 4. 5. 6. 7. 8.]\n"
     ]
    }
   ],
   "source": [
    "import numpy as np\n",
    "\n",
    "def sliding_window_average(arr, window_size):\n",
    "    \"\"\"\n",
    "    Compute the moving average of an array using a sliding window.\n",
    "\n",
    "    Parameters:\n",
    "    - arr: The input array (1D)\n",
    "    - window_size: The size of the sliding window\n",
    "\n",
    "    Returns:\n",
    "    - A new array of the moving averages\n",
    "    \"\"\"\n",
    "    return np.convolve(arr, np.ones(window_size)/window_size, mode='valid')\n",
    "\n",
    "\n",
    "arr = np.array([1, 2, 3, 4, 5, 6, 7, 8, 9])\n",
    "window_size = 3\n",
    "averages = sliding_window_average(arr, window_size)\n",
    "\n",
    "print(averages)\n"
   ]
  },
  {
   "cell_type": "markdown",
   "id": "6b170b00",
   "metadata": {},
   "source": [
    "#### 76. Consider a one-dimensional array Z, build a two-dimensional array whose first row is (Z[0],Z[1],Z[2]) and each subsequent row is  shifted by 1 (last row should be (Z[-3],Z[-2],Z[-1]) (★★★)"
   ]
  },
  {
   "cell_type": "code",
   "execution_count": 59,
   "id": "d9a0cf4e",
   "metadata": {},
   "outputs": [
    {
     "name": "stdout",
     "output_type": "stream",
     "text": [
      "[[1 2 3]\n",
      " [2 3 4]\n",
      " [3 4 5]\n",
      " [4 5 6]\n",
      " [5 6 7]\n",
      " [6 7 8]\n",
      " [7 8 9]]\n"
     ]
    }
   ],
   "source": [
    "import numpy as np\n",
    "\n",
    "def create_shifted_array(Z, window_size=3):\n",
    "    \"\"\"\n",
    "    Create a 2D array with rows shifted by 1 element from the previous row.\n",
    "\n",
    "    Parameters:\n",
    "    - Z: 1D array of length n\n",
    "    - window_size: the size of each row (in this case 3)\n",
    "\n",
    "    Returns:\n",
    "    - A 2D array with shifted rows\n",
    "    \"\"\"\n",
    "\n",
    "    if len(Z) < window_size:\n",
    "        raise ValueError(\"The array must have at least 'window_size' elements.\")\n",
    "\n",
    "\n",
    "    rows = [Z[i:i+window_size] for i in range(len(Z) - window_size + 1)]\n",
    "    return np.array(rows)\n",
    "\n",
    "\n",
    "Z = np.array([1, 2, 3, 4, 5, 6, 7, 8, 9])\n",
    "shifted_array = create_shifted_array(Z)\n",
    "\n",
    "print(shifted_array)\n"
   ]
  },
  {
   "cell_type": "markdown",
   "id": "e94a5c1d",
   "metadata": {},
   "source": [
    "#### 77. How to negate a boolean, or to change the sign of a float inplace? (★★★)"
   ]
  },
  {
   "cell_type": "code",
   "execution_count": 57,
   "id": "c0f9504f",
   "metadata": {},
   "outputs": [
    {
     "name": "stdout",
     "output_type": "stream",
     "text": [
      "[False  True False]\n"
     ]
    }
   ],
   "source": [
    "import numpy as np\n",
    "\n",
    "\n",
    "arr = np.array([True, False, True])\n",
    "\n",
    "\n",
    "arr = ~arr  # bitwise NOT negates the boolean values\n",
    "print(arr)  # Output: [False  True False]\n"
   ]
  },
  {
   "cell_type": "markdown",
   "id": "4eb8b5c1",
   "metadata": {},
   "source": [
    "#### 78. Consider 2 sets of points P0,P1 describing lines (2d) and a point p, how to compute distance from p to each line i (P0[i],P1[i])? (★★★)"
   ]
  },
  {
   "cell_type": "code",
   "execution_count": 148,
   "id": "70f15e13",
   "metadata": {},
   "outputs": [
    {
     "name": "stdout",
     "output_type": "stream",
     "text": [
      "[np.float64(2.8284271247461903), np.float64(0.7071067811865476), np.float64(1.4142135623730951)]\n"
     ]
    }
   ],
   "source": [
    "import numpy as np\n",
    "\n",
    "def distance_point_to_line(p, P0, P1):\n",
    "   \n",
    "    p = np.array(p)\n",
    "    P0 = np.array(P0)\n",
    "    P1 = np.array(P1)\n",
    "    \n",
    "   \n",
    "    P0P1 = P1 - P0\n",
    "    P0P = p - P0\n",
    "    \n",
    "    \n",
    "    t = np.dot(P0P, P0P1) / np.dot(P0P1, P0P1)\n",
    "    \n",
    "   \n",
    "    if t < 0.0:\n",
    "        closest_point = P0\n",
    "    elif t > 1.0:\n",
    "        closest_point = P1\n",
    "    else:\n",
    "        closest_point = P0 + t * P0P1\n",
    "    \n",
    " \n",
    "    distance = np.linalg.norm(p - closest_point)\n",
    "    \n",
    "    return distance\n",
    "\n",
    "P0 = [(0, 0), (1, 1), (2, 3)]\n",
    "P1 = [(1, 0), (3, 3), (4, 5)]\n",
    "p = (3, 2)\n",
    "\n",
    "\n",
    "distances = [distance_point_to_line(p, P0[i], P1[i]) for i in range(len(P0))]\n",
    "\n",
    "print(distances)\n"
   ]
  },
  {
   "cell_type": "markdown",
   "id": "3df99948",
   "metadata": {},
   "source": [
    "#### 79. Consider 2 sets of points P0,P1 describing lines (2d) and a set of points P, how to compute distance from each point j (P[j]) to each line i (P0[i],P1[i])? (★★★)"
   ]
  },
  {
   "cell_type": "code",
   "execution_count": 50,
   "id": "dc2df37b",
   "metadata": {},
   "outputs": [
    {
     "name": "stdout",
     "output_type": "stream",
     "text": [
      "Distances from each point to each line:\n",
      "[[0.70710678 0.70710678 0.70710678]\n",
      " [0.70710678 0.70710678 0.70710678]\n",
      " [0.70710678 0.70710678 0.70710678]]\n"
     ]
    }
   ],
   "source": [
    "import numpy as np\n",
    "\n",
    "def point_to_line_distance(P0, P1, P):\n",
    "    \"\"\"\n",
    "    Calculate the perpendicular distance from each point in P to each line defined by points in P0 and P1.\n",
    "    \n",
    "    Parameters:\n",
    "    - P0: array of shape (n, 2) representing the start points of the lines\n",
    "    - P1: array of shape (n, 2) representing the end points of the lines\n",
    "    - P: array of shape (m, 2) representing the points to which distances are calculated\n",
    "    \n",
    "    Returns:\n",
    "    - dist: array of shape (m, n) representing the distances from each point in P to each line\n",
    "    \"\"\"\n",
    " \n",
    "    x0, y0 = P0[:, 0], P0[:, 1]\n",
    "    x1, y1 = P1[:, 0], P1[:, 1]\n",
    "    xp, yp = P[:, 0], P[:, 1]\n",
    "    \n",
    "  \n",
    "    numerator = np.abs((x1 - x0) * (y0 - yp) - (x0 - xp) * (y1 - y0))\n",
    "    denominator = np.sqrt((x1 - x0)**2 + (y1 - y0)**2)\n",
    "    \n",
    "  \n",
    "    dist = numerator[:, None] / denominator[:, None].T\n",
    "    \n",
    "    return dist\n",
    "\n",
    "\n",
    "P0 = np.array([[1, 1], [2, 2], [3, 3]]) \n",
    "P1 = np.array([[4, 4], [5, 5], [6, 6]])  \n",
    "P = np.array([[1, 2], [3, 4], [5, 6]])   \n",
    "distances = point_to_line_distance(P0, P1, P)\n",
    "\n",
    "print(\"Distances from each point to each line:\")\n",
    "print(distances)\n"
   ]
  },
  {
   "cell_type": "markdown",
   "id": "11e972c2",
   "metadata": {},
   "source": [
    "#### 80. Consider an arbitrary array, write a function that extract a subpart with a fixed shape and centered on a given element (pad with a `fill` value when necessary) (★★★)"
   ]
  },
  {
   "cell_type": "code",
   "execution_count": null,
   "id": "671bdbbd",
   "metadata": {},
   "outputs": [
    {
     "name": "stdout",
     "output_type": "stream",
     "text": [
      "Extracted Subarray:\n",
      "[[ 7  8  9]\n",
      " [12 13 14]\n",
      " [17 18 19]]\n"
     ]
    }
   ],
   "source": [
    "import numpy as np\n",
    "\n",
    "def extract_subarray(arr, center, shape, fill_value=0):\n",
    "    \"\"\"\n",
    "    Extract a subarray centered on the given element (center) with the specified shape.\n",
    "    If the subarray extends beyond the array, it will be padded with fill_value.\n",
    "\n",
    "    Parameters:\n",
    "    - arr: 2D array (or higher dimensions)\n",
    "    - center: tuple of (row, col) coordinates where the center of the subarray should be\n",
    "    - shape: tuple (height, width) for the desired subarray size\n",
    "    - fill_value: value used to pad if the subarray extends beyond the array's boundaries\n",
    "\n",
    "    Returns:\n",
    "    - Subarray centered on `center`, padded with `fill_value` when necessary.\n",
    "    \"\"\"\n",
    "    \n",
    "    \n",
    "    half_height, half_width = shape[0] // 2, shape[1] // 2\n",
    "    \n",
    "\n",
    "    row_start = max(center[0] - half_height, 0)\n",
    "    row_end = min(center[0] + half_height + 1, arr.shape[0])\n",
    "    col_start = max(center[1] - half_width, 0)\n",
    "    col_end = min(center[1] + half_width + 1, arr.shape[1])\n",
    "    \n",
    "  \n",
    "    subarray = np.full(shape, fill_value)\n",
    "    \n",
    "    subarray[\n",
    "        half_height - (center[0] - row_start):half_height + (row_end - center[0]),\n",
    "        half_width - (center[1] - col_start):half_width + (col_end - center[1])\n",
    "    ] = arr[row_start:row_end, col_start:col_end]\n",
    "    \n",
    "    return subarray\n",
    "\n",
    "\n",
    "arr = np.array([[1, 2, 3, 4, 5],\n",
    "                [6, 7, 8, 9, 10],\n",
    "                [11, 12, 13, 14, 15],\n",
    "                [16, 17, 18, 19, 20],\n",
    "                [21, 22, 23, 24, 25]])\n",
    "\n",
    "center = (2, 2)  \n",
    "shape = (3, 3)   \n",
    "\n",
    "subarray = extract_subarray(arr, center, shape, fill_value=0)\n",
    "\n",
    "print(\"Extracted Subarray:\")\n",
    "print(subarray)\n"
   ]
  },
  {
   "cell_type": "markdown",
   "id": "93cfeab3",
   "metadata": {},
   "source": [
    "#### 81. Consider an array Z = [1,2,3,4,5,6,7,8,9,10,11,12,13,14], how to generate an array R = [[1,2,3,4], [2,3,4,5], [3,4,5,6], ..., [11,12,13,14]]? (★★★)"
   ]
  },
  {
   "cell_type": "code",
   "execution_count": 39,
   "id": "360de791",
   "metadata": {},
   "outputs": [
    {
     "name": "stdout",
     "output_type": "stream",
     "text": [
      "Generated array R:\n",
      "[[ 1  2  3  4]\n",
      " [ 2  3  4  5]\n",
      " [ 3  4  5  6]\n",
      " [ 4  5  6  7]\n",
      " [ 5  6  7  8]\n",
      " [ 6  7  8  9]\n",
      " [ 7  8  9 10]\n",
      " [ 8  9 10 11]\n",
      " [ 9 10 11 12]\n",
      " [10 11 12 13]\n",
      " [11 12 13 14]]\n"
     ]
    }
   ],
   "source": [
    "import numpy as np\n",
    "\n",
    "\n",
    "Z = np.array([1, 2, 3, 4, 5, 6, 7, 8, 9, 10, 11, 12, 13, 14])\n",
    "\n",
    "R = np.lib.stride_tricks.sliding_window_view(Z, window_shape=4)\n",
    "\n",
    "print(\"Generated array R:\")\n",
    "print(R)\n"
   ]
  },
  {
   "cell_type": "markdown",
   "id": "4c15ceff",
   "metadata": {},
   "source": [
    "#### 82. Compute a matrix rank (★★★)"
   ]
  },
  {
   "cell_type": "code",
   "execution_count": 38,
   "id": "9a4272d2",
   "metadata": {},
   "outputs": [
    {
     "name": "stdout",
     "output_type": "stream",
     "text": [
      "Rank of the matrix: 2\n"
     ]
    }
   ],
   "source": [
    "import numpy as np\n",
    "\n",
    "\n",
    "matrix = np.array([[1, 2, 3],\n",
    "                   [4, 5, 6],\n",
    "                   [7, 8, 9]])\n",
    "\n",
    "\n",
    "rank = np.linalg.matrix_rank(matrix)\n",
    "\n",
    "print(\"Rank of the matrix:\", rank)\n"
   ]
  },
  {
   "cell_type": "markdown",
   "id": "1171cb84",
   "metadata": {},
   "source": [
    "#### 83. How to find the most frequent value in an array?"
   ]
  },
  {
   "cell_type": "code",
   "execution_count": 37,
   "id": "33e951c8",
   "metadata": {},
   "outputs": [
    {
     "name": "stdout",
     "output_type": "stream",
     "text": [
      "Most frequent value: 4\n"
     ]
    }
   ],
   "source": [
    "import numpy as np\n",
    "\n",
    "array = np.array([1, 2, 2, 3, 3, 3, 4, 4, 4, 4])\n",
    "\n",
    "most_frequent_value = np.argmax(np.bincount(array))\n",
    "\n",
    "print(\"Most frequent value:\", most_frequent_value)\n"
   ]
  },
  {
   "cell_type": "markdown",
   "id": "04f472aa",
   "metadata": {},
   "source": [
    "#### 84. Extract all the contiguous 3x3 blocks from a random 10x10 matrix (★★★)"
   ]
  },
  {
   "cell_type": "code",
   "execution_count": 36,
   "id": "7aade14a",
   "metadata": {},
   "outputs": [
    {
     "name": "stdout",
     "output_type": "stream",
     "text": [
      "Original Matrix:\n",
      " [[8.79461051e-01 5.41908202e-01 7.16870664e-01 3.76878260e-01\n",
      "  1.18033463e-02 1.20373238e-01 9.41798201e-01 7.70430596e-01\n",
      "  3.08484159e-01 8.53004973e-01]\n",
      " [2.01261973e-01 6.62513238e-01 6.74246384e-02 8.52429395e-01\n",
      "  4.69751969e-01 5.53448150e-01 7.27660163e-02 7.80526344e-01\n",
      "  7.75644956e-01 3.71346445e-01]\n",
      " [5.69310464e-01 1.58367606e-01 6.39190058e-01 2.99904621e-01\n",
      "  2.14976927e-02 8.22637747e-01 6.11723560e-01 2.42038022e-01\n",
      "  7.85802612e-01 5.86531793e-01]\n",
      " [2.80460289e-01 9.14035080e-01 2.01185383e-01 4.55620816e-01\n",
      "  4.30127530e-01 9.94900051e-01 1.23455349e-01 4.00113274e-01\n",
      "  2.87148062e-01 8.13858870e-01]\n",
      " [3.48569015e-01 4.27161866e-01 1.54642742e-01 5.36234142e-04\n",
      "  8.82590782e-01 9.67121523e-01 9.43272425e-01 2.42028643e-01\n",
      "  4.39887298e-01 2.65127187e-01]\n",
      " [6.19178368e-01 8.98921352e-01 4.57008088e-01 7.31287675e-01\n",
      "  7.33973840e-01 4.14522506e-01 6.65450277e-01 1.17744779e-01\n",
      "  6.22097958e-01 5.45526793e-01]\n",
      " [8.72159345e-01 9.34791346e-01 2.01301787e-01 1.97467432e-01\n",
      "  5.13694221e-01 3.09635903e-01 8.08914260e-02 4.89072580e-01\n",
      "  3.23295232e-01 1.57303883e-01]\n",
      " [5.46252266e-01 2.34329906e-01 1.17345214e-01 7.51269708e-01\n",
      "  1.31702350e-01 1.32487719e-02 9.28867524e-01 4.33090506e-01\n",
      "  7.34749224e-02 7.97134868e-01]\n",
      " [3.97860639e-01 2.95287485e-01 3.70982454e-01 3.38715004e-01\n",
      "  4.24078298e-01 1.06506096e-01 7.75869444e-01 6.56740078e-01\n",
      "  2.96611784e-02 4.24677572e-01]\n",
      " [7.08266284e-01 7.63356880e-02 7.20356860e-01 6.91912614e-01\n",
      "  3.80447089e-01 1.22721018e-01 6.26842175e-01 7.79073810e-01\n",
      "  3.27107337e-01 3.42264280e-01]]\n",
      "\n",
      "All Contiguous 3x3 Blocks:\n",
      "[[[[8.79461051e-01 5.41908202e-01 7.16870664e-01]\n",
      "   [2.01261973e-01 6.62513238e-01 6.74246384e-02]\n",
      "   [5.69310464e-01 1.58367606e-01 6.39190058e-01]]\n",
      "\n",
      "  [[5.41908202e-01 7.16870664e-01 3.76878260e-01]\n",
      "   [6.62513238e-01 6.74246384e-02 8.52429395e-01]\n",
      "   [1.58367606e-01 6.39190058e-01 2.99904621e-01]]\n",
      "\n",
      "  [[7.16870664e-01 3.76878260e-01 1.18033463e-02]\n",
      "   [6.74246384e-02 8.52429395e-01 4.69751969e-01]\n",
      "   [6.39190058e-01 2.99904621e-01 2.14976927e-02]]\n",
      "\n",
      "  [[3.76878260e-01 1.18033463e-02 1.20373238e-01]\n",
      "   [8.52429395e-01 4.69751969e-01 5.53448150e-01]\n",
      "   [2.99904621e-01 2.14976927e-02 8.22637747e-01]]\n",
      "\n",
      "  [[1.18033463e-02 1.20373238e-01 9.41798201e-01]\n",
      "   [4.69751969e-01 5.53448150e-01 7.27660163e-02]\n",
      "   [2.14976927e-02 8.22637747e-01 6.11723560e-01]]\n",
      "\n",
      "  [[1.20373238e-01 9.41798201e-01 7.70430596e-01]\n",
      "   [5.53448150e-01 7.27660163e-02 7.80526344e-01]\n",
      "   [8.22637747e-01 6.11723560e-01 2.42038022e-01]]\n",
      "\n",
      "  [[9.41798201e-01 7.70430596e-01 3.08484159e-01]\n",
      "   [7.27660163e-02 7.80526344e-01 7.75644956e-01]\n",
      "   [6.11723560e-01 2.42038022e-01 7.85802612e-01]]\n",
      "\n",
      "  [[7.70430596e-01 3.08484159e-01 8.53004973e-01]\n",
      "   [7.80526344e-01 7.75644956e-01 3.71346445e-01]\n",
      "   [2.42038022e-01 7.85802612e-01 5.86531793e-01]]]\n",
      "\n",
      "\n",
      " [[[2.01261973e-01 6.62513238e-01 6.74246384e-02]\n",
      "   [5.69310464e-01 1.58367606e-01 6.39190058e-01]\n",
      "   [2.80460289e-01 9.14035080e-01 2.01185383e-01]]\n",
      "\n",
      "  [[6.62513238e-01 6.74246384e-02 8.52429395e-01]\n",
      "   [1.58367606e-01 6.39190058e-01 2.99904621e-01]\n",
      "   [9.14035080e-01 2.01185383e-01 4.55620816e-01]]\n",
      "\n",
      "  [[6.74246384e-02 8.52429395e-01 4.69751969e-01]\n",
      "   [6.39190058e-01 2.99904621e-01 2.14976927e-02]\n",
      "   [2.01185383e-01 4.55620816e-01 4.30127530e-01]]\n",
      "\n",
      "  [[8.52429395e-01 4.69751969e-01 5.53448150e-01]\n",
      "   [2.99904621e-01 2.14976927e-02 8.22637747e-01]\n",
      "   [4.55620816e-01 4.30127530e-01 9.94900051e-01]]\n",
      "\n",
      "  [[4.69751969e-01 5.53448150e-01 7.27660163e-02]\n",
      "   [2.14976927e-02 8.22637747e-01 6.11723560e-01]\n",
      "   [4.30127530e-01 9.94900051e-01 1.23455349e-01]]\n",
      "\n",
      "  [[5.53448150e-01 7.27660163e-02 7.80526344e-01]\n",
      "   [8.22637747e-01 6.11723560e-01 2.42038022e-01]\n",
      "   [9.94900051e-01 1.23455349e-01 4.00113274e-01]]\n",
      "\n",
      "  [[7.27660163e-02 7.80526344e-01 7.75644956e-01]\n",
      "   [6.11723560e-01 2.42038022e-01 7.85802612e-01]\n",
      "   [1.23455349e-01 4.00113274e-01 2.87148062e-01]]\n",
      "\n",
      "  [[7.80526344e-01 7.75644956e-01 3.71346445e-01]\n",
      "   [2.42038022e-01 7.85802612e-01 5.86531793e-01]\n",
      "   [4.00113274e-01 2.87148062e-01 8.13858870e-01]]]\n",
      "\n",
      "\n",
      " [[[5.69310464e-01 1.58367606e-01 6.39190058e-01]\n",
      "   [2.80460289e-01 9.14035080e-01 2.01185383e-01]\n",
      "   [3.48569015e-01 4.27161866e-01 1.54642742e-01]]\n",
      "\n",
      "  [[1.58367606e-01 6.39190058e-01 2.99904621e-01]\n",
      "   [9.14035080e-01 2.01185383e-01 4.55620816e-01]\n",
      "   [4.27161866e-01 1.54642742e-01 5.36234142e-04]]\n",
      "\n",
      "  [[6.39190058e-01 2.99904621e-01 2.14976927e-02]\n",
      "   [2.01185383e-01 4.55620816e-01 4.30127530e-01]\n",
      "   [1.54642742e-01 5.36234142e-04 8.82590782e-01]]\n",
      "\n",
      "  [[2.99904621e-01 2.14976927e-02 8.22637747e-01]\n",
      "   [4.55620816e-01 4.30127530e-01 9.94900051e-01]\n",
      "   [5.36234142e-04 8.82590782e-01 9.67121523e-01]]\n",
      "\n",
      "  [[2.14976927e-02 8.22637747e-01 6.11723560e-01]\n",
      "   [4.30127530e-01 9.94900051e-01 1.23455349e-01]\n",
      "   [8.82590782e-01 9.67121523e-01 9.43272425e-01]]\n",
      "\n",
      "  [[8.22637747e-01 6.11723560e-01 2.42038022e-01]\n",
      "   [9.94900051e-01 1.23455349e-01 4.00113274e-01]\n",
      "   [9.67121523e-01 9.43272425e-01 2.42028643e-01]]\n",
      "\n",
      "  [[6.11723560e-01 2.42038022e-01 7.85802612e-01]\n",
      "   [1.23455349e-01 4.00113274e-01 2.87148062e-01]\n",
      "   [9.43272425e-01 2.42028643e-01 4.39887298e-01]]\n",
      "\n",
      "  [[2.42038022e-01 7.85802612e-01 5.86531793e-01]\n",
      "   [4.00113274e-01 2.87148062e-01 8.13858870e-01]\n",
      "   [2.42028643e-01 4.39887298e-01 2.65127187e-01]]]\n",
      "\n",
      "\n",
      " [[[2.80460289e-01 9.14035080e-01 2.01185383e-01]\n",
      "   [3.48569015e-01 4.27161866e-01 1.54642742e-01]\n",
      "   [6.19178368e-01 8.98921352e-01 4.57008088e-01]]\n",
      "\n",
      "  [[9.14035080e-01 2.01185383e-01 4.55620816e-01]\n",
      "   [4.27161866e-01 1.54642742e-01 5.36234142e-04]\n",
      "   [8.98921352e-01 4.57008088e-01 7.31287675e-01]]\n",
      "\n",
      "  [[2.01185383e-01 4.55620816e-01 4.30127530e-01]\n",
      "   [1.54642742e-01 5.36234142e-04 8.82590782e-01]\n",
      "   [4.57008088e-01 7.31287675e-01 7.33973840e-01]]\n",
      "\n",
      "  [[4.55620816e-01 4.30127530e-01 9.94900051e-01]\n",
      "   [5.36234142e-04 8.82590782e-01 9.67121523e-01]\n",
      "   [7.31287675e-01 7.33973840e-01 4.14522506e-01]]\n",
      "\n",
      "  [[4.30127530e-01 9.94900051e-01 1.23455349e-01]\n",
      "   [8.82590782e-01 9.67121523e-01 9.43272425e-01]\n",
      "   [7.33973840e-01 4.14522506e-01 6.65450277e-01]]\n",
      "\n",
      "  [[9.94900051e-01 1.23455349e-01 4.00113274e-01]\n",
      "   [9.67121523e-01 9.43272425e-01 2.42028643e-01]\n",
      "   [4.14522506e-01 6.65450277e-01 1.17744779e-01]]\n",
      "\n",
      "  [[1.23455349e-01 4.00113274e-01 2.87148062e-01]\n",
      "   [9.43272425e-01 2.42028643e-01 4.39887298e-01]\n",
      "   [6.65450277e-01 1.17744779e-01 6.22097958e-01]]\n",
      "\n",
      "  [[4.00113274e-01 2.87148062e-01 8.13858870e-01]\n",
      "   [2.42028643e-01 4.39887298e-01 2.65127187e-01]\n",
      "   [1.17744779e-01 6.22097958e-01 5.45526793e-01]]]\n",
      "\n",
      "\n",
      " [[[3.48569015e-01 4.27161866e-01 1.54642742e-01]\n",
      "   [6.19178368e-01 8.98921352e-01 4.57008088e-01]\n",
      "   [8.72159345e-01 9.34791346e-01 2.01301787e-01]]\n",
      "\n",
      "  [[4.27161866e-01 1.54642742e-01 5.36234142e-04]\n",
      "   [8.98921352e-01 4.57008088e-01 7.31287675e-01]\n",
      "   [9.34791346e-01 2.01301787e-01 1.97467432e-01]]\n",
      "\n",
      "  [[1.54642742e-01 5.36234142e-04 8.82590782e-01]\n",
      "   [4.57008088e-01 7.31287675e-01 7.33973840e-01]\n",
      "   [2.01301787e-01 1.97467432e-01 5.13694221e-01]]\n",
      "\n",
      "  [[5.36234142e-04 8.82590782e-01 9.67121523e-01]\n",
      "   [7.31287675e-01 7.33973840e-01 4.14522506e-01]\n",
      "   [1.97467432e-01 5.13694221e-01 3.09635903e-01]]\n",
      "\n",
      "  [[8.82590782e-01 9.67121523e-01 9.43272425e-01]\n",
      "   [7.33973840e-01 4.14522506e-01 6.65450277e-01]\n",
      "   [5.13694221e-01 3.09635903e-01 8.08914260e-02]]\n",
      "\n",
      "  [[9.67121523e-01 9.43272425e-01 2.42028643e-01]\n",
      "   [4.14522506e-01 6.65450277e-01 1.17744779e-01]\n",
      "   [3.09635903e-01 8.08914260e-02 4.89072580e-01]]\n",
      "\n",
      "  [[9.43272425e-01 2.42028643e-01 4.39887298e-01]\n",
      "   [6.65450277e-01 1.17744779e-01 6.22097958e-01]\n",
      "   [8.08914260e-02 4.89072580e-01 3.23295232e-01]]\n",
      "\n",
      "  [[2.42028643e-01 4.39887298e-01 2.65127187e-01]\n",
      "   [1.17744779e-01 6.22097958e-01 5.45526793e-01]\n",
      "   [4.89072580e-01 3.23295232e-01 1.57303883e-01]]]\n",
      "\n",
      "\n",
      " [[[6.19178368e-01 8.98921352e-01 4.57008088e-01]\n",
      "   [8.72159345e-01 9.34791346e-01 2.01301787e-01]\n",
      "   [5.46252266e-01 2.34329906e-01 1.17345214e-01]]\n",
      "\n",
      "  [[8.98921352e-01 4.57008088e-01 7.31287675e-01]\n",
      "   [9.34791346e-01 2.01301787e-01 1.97467432e-01]\n",
      "   [2.34329906e-01 1.17345214e-01 7.51269708e-01]]\n",
      "\n",
      "  [[4.57008088e-01 7.31287675e-01 7.33973840e-01]\n",
      "   [2.01301787e-01 1.97467432e-01 5.13694221e-01]\n",
      "   [1.17345214e-01 7.51269708e-01 1.31702350e-01]]\n",
      "\n",
      "  [[7.31287675e-01 7.33973840e-01 4.14522506e-01]\n",
      "   [1.97467432e-01 5.13694221e-01 3.09635903e-01]\n",
      "   [7.51269708e-01 1.31702350e-01 1.32487719e-02]]\n",
      "\n",
      "  [[7.33973840e-01 4.14522506e-01 6.65450277e-01]\n",
      "   [5.13694221e-01 3.09635903e-01 8.08914260e-02]\n",
      "   [1.31702350e-01 1.32487719e-02 9.28867524e-01]]\n",
      "\n",
      "  [[4.14522506e-01 6.65450277e-01 1.17744779e-01]\n",
      "   [3.09635903e-01 8.08914260e-02 4.89072580e-01]\n",
      "   [1.32487719e-02 9.28867524e-01 4.33090506e-01]]\n",
      "\n",
      "  [[6.65450277e-01 1.17744779e-01 6.22097958e-01]\n",
      "   [8.08914260e-02 4.89072580e-01 3.23295232e-01]\n",
      "   [9.28867524e-01 4.33090506e-01 7.34749224e-02]]\n",
      "\n",
      "  [[1.17744779e-01 6.22097958e-01 5.45526793e-01]\n",
      "   [4.89072580e-01 3.23295232e-01 1.57303883e-01]\n",
      "   [4.33090506e-01 7.34749224e-02 7.97134868e-01]]]\n",
      "\n",
      "\n",
      " [[[8.72159345e-01 9.34791346e-01 2.01301787e-01]\n",
      "   [5.46252266e-01 2.34329906e-01 1.17345214e-01]\n",
      "   [3.97860639e-01 2.95287485e-01 3.70982454e-01]]\n",
      "\n",
      "  [[9.34791346e-01 2.01301787e-01 1.97467432e-01]\n",
      "   [2.34329906e-01 1.17345214e-01 7.51269708e-01]\n",
      "   [2.95287485e-01 3.70982454e-01 3.38715004e-01]]\n",
      "\n",
      "  [[2.01301787e-01 1.97467432e-01 5.13694221e-01]\n",
      "   [1.17345214e-01 7.51269708e-01 1.31702350e-01]\n",
      "   [3.70982454e-01 3.38715004e-01 4.24078298e-01]]\n",
      "\n",
      "  [[1.97467432e-01 5.13694221e-01 3.09635903e-01]\n",
      "   [7.51269708e-01 1.31702350e-01 1.32487719e-02]\n",
      "   [3.38715004e-01 4.24078298e-01 1.06506096e-01]]\n",
      "\n",
      "  [[5.13694221e-01 3.09635903e-01 8.08914260e-02]\n",
      "   [1.31702350e-01 1.32487719e-02 9.28867524e-01]\n",
      "   [4.24078298e-01 1.06506096e-01 7.75869444e-01]]\n",
      "\n",
      "  [[3.09635903e-01 8.08914260e-02 4.89072580e-01]\n",
      "   [1.32487719e-02 9.28867524e-01 4.33090506e-01]\n",
      "   [1.06506096e-01 7.75869444e-01 6.56740078e-01]]\n",
      "\n",
      "  [[8.08914260e-02 4.89072580e-01 3.23295232e-01]\n",
      "   [9.28867524e-01 4.33090506e-01 7.34749224e-02]\n",
      "   [7.75869444e-01 6.56740078e-01 2.96611784e-02]]\n",
      "\n",
      "  [[4.89072580e-01 3.23295232e-01 1.57303883e-01]\n",
      "   [4.33090506e-01 7.34749224e-02 7.97134868e-01]\n",
      "   [6.56740078e-01 2.96611784e-02 4.24677572e-01]]]\n",
      "\n",
      "\n",
      " [[[5.46252266e-01 2.34329906e-01 1.17345214e-01]\n",
      "   [3.97860639e-01 2.95287485e-01 3.70982454e-01]\n",
      "   [7.08266284e-01 7.63356880e-02 7.20356860e-01]]\n",
      "\n",
      "  [[2.34329906e-01 1.17345214e-01 7.51269708e-01]\n",
      "   [2.95287485e-01 3.70982454e-01 3.38715004e-01]\n",
      "   [7.63356880e-02 7.20356860e-01 6.91912614e-01]]\n",
      "\n",
      "  [[1.17345214e-01 7.51269708e-01 1.31702350e-01]\n",
      "   [3.70982454e-01 3.38715004e-01 4.24078298e-01]\n",
      "   [7.20356860e-01 6.91912614e-01 3.80447089e-01]]\n",
      "\n",
      "  [[7.51269708e-01 1.31702350e-01 1.32487719e-02]\n",
      "   [3.38715004e-01 4.24078298e-01 1.06506096e-01]\n",
      "   [6.91912614e-01 3.80447089e-01 1.22721018e-01]]\n",
      "\n",
      "  [[1.31702350e-01 1.32487719e-02 9.28867524e-01]\n",
      "   [4.24078298e-01 1.06506096e-01 7.75869444e-01]\n",
      "   [3.80447089e-01 1.22721018e-01 6.26842175e-01]]\n",
      "\n",
      "  [[1.32487719e-02 9.28867524e-01 4.33090506e-01]\n",
      "   [1.06506096e-01 7.75869444e-01 6.56740078e-01]\n",
      "   [1.22721018e-01 6.26842175e-01 7.79073810e-01]]\n",
      "\n",
      "  [[9.28867524e-01 4.33090506e-01 7.34749224e-02]\n",
      "   [7.75869444e-01 6.56740078e-01 2.96611784e-02]\n",
      "   [6.26842175e-01 7.79073810e-01 3.27107337e-01]]\n",
      "\n",
      "  [[4.33090506e-01 7.34749224e-02 7.97134868e-01]\n",
      "   [6.56740078e-01 2.96611784e-02 4.24677572e-01]\n",
      "   [7.79073810e-01 3.27107337e-01 3.42264280e-01]]]]\n"
     ]
    }
   ],
   "source": [
    "import numpy as np\n",
    "\n",
    "\n",
    "matrix = np.random.rand(10, 10)\n",
    "\n",
    "\n",
    "block_size = 3\n",
    "blocks = np.lib.stride_tricks.sliding_window_view(matrix, (block_size, block_size))\n",
    "\n",
    "\n",
    "print(\"Original Matrix:\\n\", matrix)\n",
    "print(\"\\nAll Contiguous 3x3 Blocks:\")\n",
    "print(blocks)\n"
   ]
  },
  {
   "cell_type": "markdown",
   "id": "d2e6c144",
   "metadata": {},
   "source": [
    "#### 84. Extract all the contiguous 3x3 blocks from a random 10x10 matrix (★★★)"
   ]
  },
  {
   "cell_type": "markdown",
   "id": "52836346",
   "metadata": {},
   "source": [
    "#### 85. Create a 2D array subclass such that Z[i,j] == Z[j,i] (★★★)"
   ]
  },
  {
   "cell_type": "code",
   "execution_count": 35,
   "id": "4df70318",
   "metadata": {},
   "outputs": [],
   "source": [
    "import numpy as np\n",
    "\n",
    "class SymmetricMatrix(np.ndarray):\n",
    "    def __new__(cls, shape, dtype=float, buffer=None, offset=0, strides=None, order=None):\n",
    "       \n",
    "        obj = super().__new__(cls, shape, dtype, buffer, offset, strides, order)\n",
    "        \n",
    "       \n",
    "        obj[:] = 0  # Initialize the array with zeros\n",
    "        return obj\n",
    "    \n",
    "    def __setitem__(self, key, value):\n",
    "       \n",
    "        i, j = key\n",
    "        super().__setitem__((i, j), value)\n",
    "        super().__setitem__((j, i), value)  # Enforce Z[i, j] == Z[j, i]\n",
    "    \n",
    "    def __getitem__(self, key):\n",
    "       \n",
    "        i, j = key\n",
    "        return super()\n"
   ]
  },
  {
   "cell_type": "markdown",
   "id": "f4239bcb",
   "metadata": {},
   "source": [
    "#### 85. Create a 2D array subclass such that Z[i,j] == Z[j,i] (★★★)"
   ]
  },
  {
   "cell_type": "markdown",
   "id": "78c43ee5",
   "metadata": {},
   "source": [
    "#### 86. Consider a set of p matrices with shape (n,n) and a set of p vectors with shape (n,1). How to compute the sum of of the p matrix products at once? (result has shape (n,1)) (★★★)"
   ]
  },
  {
   "cell_type": "code",
   "execution_count": 34,
   "id": "32fd2c3b",
   "metadata": {},
   "outputs": [
    {
     "name": "stdout",
     "output_type": "stream",
     "text": [
      "Resulting vector of shape (n, 1):\n",
      " [[4.67565505]\n",
      " [5.0282042 ]\n",
      " [4.48920841]\n",
      " [4.17668687]]\n"
     ]
    }
   ],
   "source": [
    "import numpy as np\n",
    "\n",
    "p = 5  # number of matrices and vectors\n",
    "n = 4  # size of each matrix and vector\n",
    "\n",
    "\n",
    "matrices = np.random.rand(p, n, n)  # shape (p, n, n)\n",
    "vectors = np.random.rand(p, n, 1)  # shape (p, n, 1)\n",
    "\n",
    "\n",
    "result = np.sum(matrices @ vectors, axis=0)\n",
    "\n",
    "print(\"Resulting vector of shape (n, 1):\\n\", result)\n"
   ]
  },
  {
   "cell_type": "markdown",
   "id": "158f9945",
   "metadata": {},
   "source": [
    "#### 87. Consider a 16x16 array, how to get the block-sum (block size is 4x4)? (★★★)"
   ]
  },
  {
   "cell_type": "code",
   "execution_count": null,
   "id": "ea6dad86",
   "metadata": {},
   "outputs": [
    {
     "name": "stdout",
     "output_type": "stream",
     "text": [
      "Original Array:\n",
      "[[  1   2   3   4   5   6   7   8   9  10  11  12  13  14  15  16]\n",
      " [ 17  18  19  20  21  22  23  24  25  26  27  28  29  30  31  32]\n",
      " [ 33  34  35  36  37  38  39  40  41  42  43  44  45  46  47  48]\n",
      " [ 49  50  51  52  53  54  55  56  57  58  59  60  61  62  63  64]\n",
      " [ 65  66  67  68  69  70  71  72  73  74  75  76  77  78  79  80]\n",
      " [ 81  82  83  84  85  86  87  88  89  90  91  92  93  94  95  96]\n",
      " [ 97  98  99 100 101 102 103 104 105 106 107 108 109 110 111 112]\n",
      " [113 114 115 116 117 118 119 120 121 122 123 124 125 126 127 128]\n",
      " [129 130 131 132 133 134 135 136 137 138 139 140 141 142 143 144]\n",
      " [145 146 147 148 149 150 151 152 153 154 155 156 157 158 159 160]\n",
      " [161 162 163 164 165 166 167 168 169 170 171 172 173 174 175 176]\n",
      " [177 178 179 180 181 182 183 184 185 186 187 188 189 190 191 192]\n",
      " [193 194 195 196 197 198 199 200 201 202 203 204 205 206 207 208]\n",
      " [209 210 211 212 213 214 215 216 217 218 219 220 221 222 223 224]\n",
      " [225 226 227 228 229 230 231 232 233 234 235 236 237 238 239 240]\n",
      " [241 242 243 244 245 246 247 248 249 250 251 252 253 254 255 256]]\n",
      "\n",
      "Block Sum (4x4):\n",
      "[[ 136  392  648  904]\n",
      " [1160 1416 1672 1928]\n",
      " [2184 2440 2696 2952]\n",
      " [3208 3464 3720 3976]]\n"
     ]
    }
   ],
   "source": [
    "import numpy as np\n",
    "\n",
    "arr = np.arange(1, 257).reshape(16, 16)\n",
    "\n",
    "block_size = 4\n",
    "blocks = arr.reshape(4, 4, 4, 4) \n",
    "\n",
    "block_sum = blocks.sum(axis=(2, 3)) \n",
    "\n",
    "print(\"Original Array:\")\n",
    "print(arr)\n",
    "print(\"\\nBlock Sum (4x4):\")\n",
    "print(block_sum)\n"
   ]
  },
  {
   "cell_type": "markdown",
   "id": "2e0ad860",
   "metadata": {},
   "source": [
    "#### 88. How to implement the Game of Life using numpy arrays? (★★★)"
   ]
  },
  {
   "cell_type": "code",
   "execution_count": 29,
   "id": "574acff5",
   "metadata": {},
   "outputs": [],
   "source": [
    "import numpy as np\n",
    "import matplotlib.pyplot as plt\n",
    "import matplotlib.animation as animation\n",
    "\n",
    "\n",
    "def initialize_grid(size):\n",
    "    return np.random.choice([0, 1], size=size)\n",
    "\n",
    "\n",
    "def next_generation(grid):\n",
    "    \n",
    "    rows, cols = grid.shape\n",
    "    new_grid = np.zeros((rows, cols), dtype=int)\n",
    "    \n",
    "    for i in range(rows):\n",
    "        for j in range(cols):\n",
    "           \n",
    "            neighbors = grid[(i-1)%rows:(i+2)%rows, (j-1)%cols:(j+2)%cols]\n",
    "            total = np.sum(neighbors) - grid[i, j]  \n",
    "\n",
    "          \n",
    "            if grid[i, j] == 1:\n",
    "                if total < 2 or total > 3:\n",
    "                    new_grid[i, j] = 0 \n",
    "                else:\n",
    "                    new_grid[i, j] = 1  \n",
    "            else:\n",
    "                if total == 3:\n",
    "                    new_grid[i, j] = 1  \n",
    "\n",
    "    return new_grid\n"
   ]
  },
  {
   "cell_type": "markdown",
   "id": "69a892fa",
   "metadata": {},
   "source": [
    "#### 89. How to get the n largest values of an array (★★★)"
   ]
  },
  {
   "cell_type": "code",
   "execution_count": 26,
   "id": "21b2bd48",
   "metadata": {},
   "outputs": [
    {
     "name": "stdout",
     "output_type": "stream",
     "text": [
      "The n largest values are: [20 45 99]\n"
     ]
    }
   ],
   "source": [
    "import numpy as np\n",
    "\n",
    "array = np.array([10, 20, 4, 45, 99, 5, 6])\n",
    "\n",
    "\n",
    "n = 3\n",
    "\n",
    "indices = np.argsort(array)[-n:]\n",
    "\n",
    "\n",
    "n_largest_values = array[indices]\n",
    "\n",
    "print(\"The n largest values are:\", n_largest_values)\n"
   ]
  },
  {
   "cell_type": "markdown",
   "id": "b55ccacc",
   "metadata": {},
   "source": [
    "#### 90. Given an arbitrary number of vectors, build the cartesian product (every combinations of every item) (★★★)"
   ]
  },
  {
   "cell_type": "code",
   "execution_count": 25,
   "id": "4b645da4",
   "metadata": {},
   "outputs": [
    {
     "name": "stdout",
     "output_type": "stream",
     "text": [
      "Cartesian product of the vectors:\n",
      "[[1 3 5]\n",
      " [1 3 6]\n",
      " [1 4 5]\n",
      " [1 4 6]\n",
      " [2 3 5]\n",
      " [2 3 6]\n",
      " [2 4 5]\n",
      " [2 4 6]]\n"
     ]
    }
   ],
   "source": [
    "import numpy as np\n",
    "import itertools\n",
    "\n",
    "\n",
    "vector_1 = [1, 2]\n",
    "vector_2 = [3, 4]\n",
    "vector_3 = [5, 6]\n",
    "\n",
    "\n",
    "cartesian_product = list(itertools.product(vector_1, vector_2, vector_3))\n",
    "\n",
    "cartesian_product_np = np.array(cartesian_product)\n",
    "\n",
    "print(\"Cartesian product of the vectors:\")\n",
    "print(cartesian_product_np)\n"
   ]
  },
  {
   "cell_type": "markdown",
   "id": "89187a23",
   "metadata": {},
   "source": [
    "#### 91. How to create a record array from a regular array? (★★★)"
   ]
  },
  {
   "cell_type": "code",
   "execution_count": 24,
   "id": "da94c71a",
   "metadata": {},
   "outputs": [
    {
     "name": "stdout",
     "output_type": "stream",
     "text": [
      "Record Array Method 1:\n",
      "[(1, 2, 3) (4, 5, 6) (7, 8, 9)]\n",
      "Access col1 by name: [1 4 7]\n",
      "\n",
      "Record Array Method 2:\n",
      "[[(1, 1, 1) (2, 2, 2) (3, 3, 3)]\n",
      " [(4, 4, 4) (5, 5, 5) (6, 6, 6)]\n",
      " [(7, 7, 7) (8, 8, 8) (9, 9, 9)]]\n",
      "Access col2 by name: [[1 2 3]\n",
      " [4 5 6]\n",
      " [7 8 9]]\n"
     ]
    },
    {
     "name": "stderr",
     "output_type": "stream",
     "text": [
      "C:\\Users\\ccs\\AppData\\Local\\Temp\\ipykernel_5732\\2170478925.py:10: DeprecationWarning: numpy.core is deprecated and has been renamed to numpy._core. The numpy._core namespace contains private NumPy internals and its use is discouraged, as NumPy internals can change without warning in any release. In practice, most real-world usage of numpy.core is to access functionality in the public NumPy API. If that is the case, use the public NumPy API. If not, you are using NumPy internals. If you would still like to access an internal attribute, use numpy._core.records.\n",
      "  record_array_1 = np.core.records.fromarrays(regular_array.T, names='col1, col2, col3')\n"
     ]
    }
   ],
   "source": [
    "import numpy as np\n",
    "\n",
    "regular_array = np.array([\n",
    "    [1, 2, 3],\n",
    "    [4, 5, 6],\n",
    "    [7, 8, 9]\n",
    "])\n",
    "\n",
    "\n",
    "record_array_1 = np.core.records.fromarrays(regular_array.T, names='col1, col2, col3')\n",
    "print(\"Record Array Method 1:\")\n",
    "print(record_array_1)\n",
    "\n",
    "print(\"Access col1 by name:\", record_array_1.col1)\n",
    "\n",
    "\n",
    "dtype = np.dtype([('col1', 'int'), ('col2', 'int'), ('col3', 'int')])\n",
    "record_array_2 = np.recarray(regular_array.shape, dtype=dtype)\n",
    "record_array_2[:] = regular_array\n",
    "print(\"\\nRecord Array Method 2:\")\n",
    "print(record_array_2)\n",
    "\n",
    "\n",
    "print(\"Access col2 by name:\", record_array_2.col2)\n"
   ]
  },
  {
   "cell_type": "markdown",
   "id": "aa70d4ca",
   "metadata": {},
   "source": [
    "#### 92. Consider a large vector Z, compute Z to the power of 3 using 3 different methods (★★★)"
   ]
  },
  {
   "cell_type": "code",
   "execution_count": 23,
   "id": "7cff1bf5",
   "metadata": {},
   "outputs": [
    {
     "name": "stdout",
     "output_type": "stream",
     "text": [
      "True\n",
      "True\n"
     ]
    }
   ],
   "source": [
    "import numpy as np\n",
    "\n",
    "\n",
    "Z = np.random.rand(1000000)  \n",
    "Z_power_1 = Z ** 3\n",
    "\n",
    "Z_power_2 = np.power(Z, 3)\n",
    "\n",
    "\n",
    "Z_power_3 = Z * Z * Z\n",
    "\n",
    "print(np.allclose(Z_power_1, Z_power_2))  \n",
    "print(np.allclose(Z_power_1, Z_power_3)) \n"
   ]
  },
  {
   "cell_type": "markdown",
   "id": "5f79dd00",
   "metadata": {},
   "source": [
    "#### 93. Consider two arrays A and B of shape (8,3) and (2,2). How to find rows of A that contain elements of each row of B regardless of the order of the elements in B? (★★★)"
   ]
  },
  {
   "cell_type": "code",
   "execution_count": 22,
   "id": "20c105b2",
   "metadata": {},
   "outputs": [
    {
     "name": "stdout",
     "output_type": "stream",
     "text": [
      "Rows of A that contain elements of each row of B:\n",
      "[[1 2 3]\n",
      " [3 2 1]\n",
      " [1 3 2]\n",
      " [2 3 1]]\n"
     ]
    }
   ],
   "source": [
    "import numpy as np\n",
    "\n",
    "A = np.array([\n",
    "    [1, 2, 3],\n",
    "    [3, 2, 1],\n",
    "    [4, 5, 6],\n",
    "    [6, 4, 5],\n",
    "    [7, 8, 9],\n",
    "    [9, 8, 7],\n",
    "    [1, 3, 2],\n",
    "    [2, 3, 1]\n",
    "])\n",
    "\n",
    "B = np.array([\n",
    "    [1, 2],\n",
    "    [3, 4]\n",
    "])\n",
    "\n",
    "def contains_elements(row_A, row_B):\n",
    "    return set(row_B).issubset(set(row_A))\n",
    "\n",
    "matching_rows = []\n",
    "for b_row in B:\n",
    "    for a_row in A:\n",
    "        if contains_elements(a_row, b_row):\n",
    "            matching_rows.append(a_row)\n",
    "\n",
    "matching_rows = np.array(matching_rows)\n",
    "\n",
    "print(\"Rows of A that contain elements of each row of B:\")\n",
    "print(matching_rows)\n"
   ]
  },
  {
   "cell_type": "markdown",
   "id": "a80570cd",
   "metadata": {},
   "source": [
    "#### 94. Considering a 10x3 matrix, extract rows with unequal values (e.g. [2,2,3]) (★★★)"
   ]
  },
  {
   "cell_type": "code",
   "execution_count": 21,
   "id": "84db8de1",
   "metadata": {},
   "outputs": [
    {
     "name": "stdout",
     "output_type": "stream",
     "text": [
      "Rows with unequal values:\n",
      "[[2 2 3]\n",
      " [5 6 7]\n",
      " [1 2 3]\n",
      " [5 5 6]\n",
      " [7 8 9]]\n"
     ]
    }
   ],
   "source": [
    "import numpy as np\n",
    "\n",
    "matrix = np.array([\n",
    "    [1, 1, 1],\n",
    "    [2, 2, 3],\n",
    "    [4, 4, 4],\n",
    "    [5, 6, 7],\n",
    "    [8, 8, 8],\n",
    "    [9, 9, 9],\n",
    "    [1, 2, 3],\n",
    "    [3, 3, 3],\n",
    "    [5, 5, 6],\n",
    "    [7, 8, 9]\n",
    "])\n",
    "\n",
    "\n",
    "unequal_rows = matrix[~np.all(matrix == matrix[:, [0]], axis=1)]\n",
    "\n",
    "print(\"Rows with unequal values:\")\n",
    "print(unequal_rows)\n"
   ]
  },
  {
   "cell_type": "markdown",
   "id": "ba154f43",
   "metadata": {},
   "source": [
    "#### 95. Convert a vector of ints into a matrix binary representation (★★★)"
   ]
  },
  {
   "cell_type": "code",
   "execution_count": 20,
   "id": "cfa96e1b",
   "metadata": {},
   "outputs": [
    {
     "name": "stdout",
     "output_type": "stream",
     "text": [
      "Binary matrix representation:\n",
      "[[0 0 0 0 0 0 0 1]\n",
      " [0 0 0 0 0 0 1 0]\n",
      " [0 0 0 0 0 0 1 1]\n",
      " [0 0 0 0 0 1 0 0]\n",
      " [0 0 0 0 0 1 0 1]]\n"
     ]
    }
   ],
   "source": [
    "import numpy as np\n",
    "\n",
    "vector = np.array([1, 2, 3, 4, 5])\n",
    "\n",
    "\n",
    "binary_matrix = np.array([list(np.binary_repr(i, width=8)) for i in vector], dtype=int)\n",
    "\n",
    "print(\"Binary matrix representation:\")\n",
    "print(binary_matrix)\n"
   ]
  },
  {
   "cell_type": "markdown",
   "id": "420e2343",
   "metadata": {},
   "source": [
    "#### 96. Given a two dimensional array, how to extract unique rows? (★★★)"
   ]
  },
  {
   "cell_type": "code",
   "execution_count": 19,
   "id": "4680dfd0",
   "metadata": {},
   "outputs": [
    {
     "name": "stdout",
     "output_type": "stream",
     "text": [
      "Unique rows:\n",
      "[[1 2 3]\n",
      " [4 5 6]\n",
      " [7 8 9]]\n"
     ]
    }
   ],
   "source": [
    "import numpy as np\n",
    "\n",
    "array = np.array([\n",
    "    [1, 2, 3],\n",
    "    [4, 5, 6],\n",
    "    [1, 2, 3],\n",
    "    [7, 8, 9],\n",
    "    [4, 5, 6]\n",
    "])\n",
    "\n",
    "unique_rows = np.unique(array, axis=0)\n",
    "\n",
    "print(\"Unique rows:\")\n",
    "print(unique_rows)\n"
   ]
  },
  {
   "cell_type": "markdown",
   "id": "89fef2f3",
   "metadata": {},
   "source": [
    "#### 97. Considering 2 vectors A & B, write the einsum equivalent of inner, outer, sum, and mul function (★★★)"
   ]
  },
  {
   "cell_type": "code",
   "execution_count": 18,
   "id": "bb9c14b2",
   "metadata": {},
   "outputs": [
    {
     "name": "stdout",
     "output_type": "stream",
     "text": [
      "32\n"
     ]
    }
   ],
   "source": [
    "import numpy as np\n",
    "\n",
    "A = np.array([1, 2, 3])\n",
    "B = np.array([4, 5, 6])\n",
    "\n",
    "inner_product = np.einsum('i,i', A, B)\n",
    "print(inner_product)  # Output: 32\n"
   ]
  },
  {
   "cell_type": "markdown",
   "id": "7ad5cc5f",
   "metadata": {},
   "source": [
    "#### 98. Considering a path described by two vectors (X,Y), how to sample it using equidistant samples (★★★)?"
   ]
  },
  {
   "cell_type": "code",
   "execution_count": 17,
   "id": "0899d1d5",
   "metadata": {},
   "outputs": [
    {
     "name": "stderr",
     "output_type": "stream",
     "text": [
      "Matplotlib is building the font cache; this may take a moment.\n"
     ]
    },
    {
     "data": {
      "image/png": "[encoded data removed]",
      "text/plain": [
       "<Figure size 640x480 with 1 Axes>"
      ]
     },
     "metadata": {},
     "output_type": "display_data"
    },
    {
     "name": "stdout",
     "output_type": "stream",
     "text": [
      "Sampled X: [0.         0.86506419 1.32652334 1.71339181 2.22418879 3.08925299\n",
      " 3.95431718 4.96416345 5.98208172 7.        ]\n",
      "Sampled Y: [0.         0.86506419 1.97957002 3.14017543 4.22418879 5.08925299\n",
      " 5.95431718 6.64277563 7.32138782 8.        ]\n"
     ]
    }
   ],
   "source": [
    "import numpy as np\n",
    "import matplotlib.pyplot as plt\n",
    "\n",
    "def sample_path(X, Y, num_samples):\n",
    "    dx = np.diff(X)\n",
    "    dy = np.diff(Y)\n",
    "    \n",
    "    \n",
    "    dist = np.sqrt(dx**2 + dy**2)\n",
    "    \n",
    "    \n",
    "    cumulative_dist = np.insert(np.cumsum(dist), 0, 0) \n",
    "    \n",
    "    \n",
    "    total_distance = cumulative_dist[-1]\n",
    "    equidistant_distances = np.linspace(0, total_distance, num_samples)\n",
    "\n",
    "    X_sampled = np.interp(equidistant_distances, cumulative_dist, X)\n",
    "    Y_sampled = np.interp(equidistant_distances, cumulative_dist, Y)\n",
    "    \n",
    "    return X_sampled, Y_sampled\n",
    "X = np.array([0, 1, 2, 4, 7])\n",
    "Y = np.array([0, 1, 4, 6,8])\n",
    "num_samples = 10\n",
    "X_sampled, Y_sampled = sample_path(X, Y, num_samples)\n",
    "plt.plot(X, Y, 'o-', label='Original path')\n",
    "plt.plot(X_sampled, Y_sampled, 'x-', label='Equidistant samples')\n",
    "plt.legend()\n",
    "plt.show()\n",
    "print(\"Sampled X:\", X_sampled)\n",
    "print(\"Sampled Y:\", Y_sampled)\n"
   ]
  },
  {
   "cell_type": "markdown",
   "id": "2b69272e",
   "metadata": {},
   "source": [
    "#### 99. Given an integer n and a 2D array X, select from X the rows which can be interpreted as draws from a multinomial distribution with n degrees, i.e., the rows which only contain integers and which sum to n. (★★★)"
   ]
  },
  {
   "cell_type": "code",
   "execution_count": 15,
   "id": "55c8b034",
   "metadata": {},
   "outputs": [
    {
     "name": "stdout",
     "output_type": "stream",
     "text": [
      "Valid rows:\n",
      "[]\n"
     ]
    }
   ],
   "source": [
    "import numpy as np\n",
    "\n",
    "def select_multinomial_rows(X, n):\n",
    "    X = X.astype(int)\n",
    "    valid_rows = [row for row in X if np.sum(row) == n and np.all(row >= 0)]\n",
    "    return np.array(valid_rows)\n",
    "X = np.array([\n",
    "    [2, 3, 5],\n",
    "    [1, 1, 1],\n",
    "    [5, 5, 5],\n",
    "    [2, 2, 3],\n",
    "    [0, 1, 2]\n",
    "])\n",
    "n = 6\n",
    "valid_rows = select_multinomial_rows(X, n)\n",
    "\n",
    "print(\"Valid rows:\")\n",
    "print(valid_rows)\n"
   ]
  },
  {
   "cell_type": "markdown",
   "id": "59ab5516",
   "metadata": {},
   "source": [
    "#### 100. Compute bootstrapped 95% confidence intervals for the mean of a 1D array X (i.e., resample the elements of an array with replacement N times, compute the mean of each sample, and then compute percentiles over the means). (★★★)"
   ]
  },
  {
   "cell_type": "code",
   "execution_count": 14,
   "id": "450877d8",
   "metadata": {},
   "outputs": [
    {
     "name": "stdout",
     "output_type": "stream",
     "text": [
      "Bootstrapped 95% confidence interval for the mean: (3.7, 7.2)\n"
     ]
    }
   ],
   "source": [
    "import numpy as np\n",
    "\n",
    "X = np.array([1, 2, 3, 4, 5, 6, 7, 8, 9, 10])\n",
    "N = 10000\n",
    "bootstrap_means = np.empty(N)\n",
    "for i in range(N):\n",
    "    sample = np.random.choice(X, size=len(X), replace=True)\n",
    "    bootstrap_means[i] = np.mean(sample)\n",
    "\n",
    "lower_percentile = np.percentile(bootstrap_means, 2.5)\n",
    "upper_percentile = np.percentile(bootstrap_means, 97.5)\n",
    "\n",
    "print(f\"Bootstrapped 95% confidence interval for the mean: ({lower_percentile}, {upper_percentile})\")\n"
   ]
  }
 ],
 "metadata": {
  "kernelspec": {
   "display_name": "Python 3",
   "language": "python",
   "name": "python3"
  },
  "language_info": {
   "codemirror_mode": {
    "name": "ipython",
    "version": 3
   },
   "file_extension": ".py",
   "mimetype": "text/x-python",
   "name": "python",
   "nbconvert_exporter": "python",
   "pygments_lexer": "ipython3",
   "version": "3.12.5"
  }
 },
 "nbformat": 4,
 "nbformat_minor": 5
}
